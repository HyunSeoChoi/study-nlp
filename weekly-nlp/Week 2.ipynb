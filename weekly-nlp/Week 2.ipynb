{
 "cells": [
  {
   "cell_type": "markdown",
   "id": "72a8f4d1",
   "metadata": {},
   "source": [
    "## 단어를 가방에 때려 넣으면 문장이 된다"
   ]
  },
  {
   "cell_type": "markdown",
   "id": "2bbff010",
   "metadata": {},
   "source": [
    "1) 순서가 중요할까 이해하는데 문장을? 단어의<br>\n",
    "2) 일반적으로 입력되는 따라서 다양하게 전자기기 이진법을 저장하고 일반적으로 명령어에 이용하여 데이터를 처리하는"
   ]
  },
  {
   "cell_type": "markdown",
   "id": "f7e56b7b",
   "metadata": {},
   "source": [
    "문장을 이해하는 데에 단어의 순서는 중요하다. 하지만 예시 2번 문장을 보면 '컴퓨터'에 관한 내용임은 짐작할 수 있다. 문장이 어떤 주제를 가졌는지만 알고 싶다면 순서가 크게 상관이 없다. 따라서 해결하고자 하는 문제에 따라 문장을 표현하는 방법이 달라질 수 있다.\n",
    "\n",
    "이 글에서는 순서가 상관없는 문장 표현 방법을 배운다."
   ]
  },
  {
   "cell_type": "markdown",
   "id": "5c347e9c",
   "metadata": {},
   "source": [
    "### Bag-of-words"
   ]
  },
  {
   "cell_type": "markdown",
   "id": "f573984f",
   "metadata": {},
   "source": [
    "여러 개의 one-hot vector를 한 개의 column vector로 표현하는 것이 bag-of-words vector이다."
   ]
  },
  {
   "cell_type": "markdown",
   "id": "d760b177",
   "metadata": {},
   "source": [
    "<img src=\"https://jiho-ml.com/content/images/2020/04/figure2-3.png\" width=\"550\"/>"
   ]
  },
  {
   "cell_type": "markdown",
   "id": "8ef3273e",
   "metadata": {},
   "source": [
    "각 index는 해당 단어의 빈도수를 나타낸다. 하나의 vector로 나타냈기 때문에 단어의 순서를 고려하지 않는다. 모든 단어를 큰 가방에 넣으면 섞여 버리기 때문에 bag이라는 이름이 붙은 것이다. 아래는 더 많은 단어가 있을 때의 예시이다."
   ]
  },
  {
   "cell_type": "markdown",
   "id": "fd92b338",
   "metadata": {},
   "source": [
    "<img src=\"https://jiho-ml.com/content/images/2020/05/bow.JPEG\" width=\"500\"/>"
   ]
  },
  {
   "cell_type": "markdown",
   "id": "1e5d154e",
   "metadata": {},
   "source": [
    "### N-gram"
   ]
  },
  {
   "cell_type": "markdown",
   "id": "9c4e9a65",
   "metadata": {},
   "source": [
    "조금이라도 순서를 신경 쓰기 위한 단어 표현 방식으로 n-gram이 있다. n-gram은 연속된 n개의 단어 뭉치를 뜻한다. 예를 들어 \"나는 너를 좋아한다.\"라는 문장에 나타나는 bi-gram은 [나는 너를, 너를 좋아한다]이다. 이렇게 하면 어느 정도 단어의 순서를 신경 쓸 수 있고 \"자연어 처리\" 같은 합성어를 고려할 수 있다."
   ]
  },
  {
   "cell_type": "markdown",
   "id": "3addcfab",
   "metadata": {},
   "source": [
    "그러나 n=4인 4-gram을 이용하여 BoW를 만든다면 학습 데이터에 나오는 모든 4-gram을 vocabulary에 넣어야 한다. 그렇기에 보통은 n이 너무 크지 않은 2~3 정도만 사용한다."
   ]
  },
  {
   "cell_type": "markdown",
   "id": "caa88d33",
   "metadata": {},
   "source": [
    "### Tf-idf vector"
   ]
  },
  {
   "cell_type": "markdown",
   "id": "cc8a0eec",
   "metadata": {},
   "source": [
    "term frequency - inverse document frequency(tf-idf)는 단어 간 빈도수에 따라 중요도를 계산해 고려하는 방법이다. 학습 데이터가 크면 클수록 자주 쓰이는 단어의 숫자가 커질 것이다. \n",
    "\n",
    "영어에서는 \"the, he, she, it, a\"처럼 관사나 대명사는 자주 등장하지만, 문장을 이해하는 데 도움이 안 될 수 있다. 이를 불용어라고 한다. 한국어의 경우 \"이, 있, 것, 들, 그러나\"처럼 조사, 관사, 접속사 등을 포함한다."
   ]
  },
  {
   "cell_type": "markdown",
   "id": "ee390fc2",
   "metadata": {},
   "source": [
    "반대로 \"인공지능, 자연어 처리, 기계 학습\" 같은 단어들은 자주 등장하진 않지만, 문서의 주제를 유추하는 데 아주 중요한 역할을 할 것이다. 스포츠 기사에 저런 단어가 등장하진 않을 것이다."
   ]
  },
  {
   "cell_type": "markdown",
   "id": "3f37cd7f",
   "metadata": {},
   "source": [
    "> term frequency (tf): 현재 문서(문장에)서의 단어의 빈도수\n",
    "\n",
    "> document frequency (df): 이 단어가 나오는 문서(문장) 총개수"
   ]
  },
  {
   "cell_type": "markdown",
   "id": "3791a612",
   "metadata": {},
   "source": [
    "조사나 관사 같은 경우에는 tf와 df가 매우 높을 것이다. 반대로 인공지능이나 자연어 처리는 tf가 높을 수 있지만 df가 상대적으로 낮을 것이다. tf-idf score는 다음과 같이 정의된다."
   ]
  },
  {
   "cell_type": "markdown",
   "id": "abf8d4cd",
   "metadata": {},
   "source": [
    "<img src=\"https://jiho-ml.com/content/images/2020/04/figure4-2.png\" width=\"400\"/>"
   ]
  },
  {
   "cell_type": "markdown",
   "id": "f1d58468",
   "metadata": {},
   "source": [
    "위 수식을 보면 문서 내 단어 빈도수를 고려하면서 다른 문서에서도 자주 나오는 단어는 중요도를 낮추어 점수를 계산한다. df는 분모에 등장하여 나눠지므로 inverse document frequency (idf)라고 한다."
   ]
  },
  {
   "cell_type": "markdown",
   "id": "d3fbae03",
   "metadata": {},
   "source": [
    "### BoW, Tf-idf vector의 단점"
   ]
  },
  {
   "cell_type": "markdown",
   "id": "2ddcac81",
   "metadata": {},
   "source": [
    "1) 순서가 중요한 문제에는 쓰기 힘들다. 문장의 순서를 기록하지 않고 빈도수만 고려하기 때문이다.\n",
    "\n",
    "2) vocabulary가 커지면 vector의 사이즈가 커진다. Nx1 column vector로 단어나 문장을 표현하므로 전체 vector가 엄청나게 커진다. 실제로는 vector 안의 대부분의 값이 0으로 채워져 있다.\n",
    "\n",
    "3) 단어 간의 관계를 표현하지 못한다. '책상'과 '테이블', '개'와 '강아지', '아침 식사'와 '조찬'은 쓰임새가 다르지만 동의어다. '걷다'는 '볼펜'보다 '뛰다'와 좀 더 관련이 있다. 그러나 one-hot vector 특성상 이런 연관성을 표현할 수 없다."
   ]
  }
 ],
 "metadata": {
  "kernelspec": {
   "display_name": "Python 3 (ipykernel)",
   "language": "python",
   "name": "python3"
  },
  "language_info": {
   "codemirror_mode": {
    "name": "ipython",
    "version": 3
   },
   "file_extension": ".py",
   "mimetype": "text/x-python",
   "name": "python",
   "nbconvert_exporter": "python",
   "pygments_lexer": "ipython3",
   "version": "3.9.12"
  }
 },
 "nbformat": 4,
 "nbformat_minor": 5
}
