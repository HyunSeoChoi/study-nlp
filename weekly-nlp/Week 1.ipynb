{
 "cells": [
  {
   "cell_type": "markdown",
   "id": "ae356356",
   "metadata": {},
   "source": [
    "## 컴퓨터에게 언어는 어떤 의미일까?"
   ]
  },
  {
   "cell_type": "markdown",
   "id": "84b4c8fa",
   "metadata": {},
   "source": [
    "우리는 자음과 모음을 배우고 이런 문자열이 모여 음절이 되고 더 나아가 단어를 배운다."
   ]
  },
  {
   "cell_type": "markdown",
   "id": "a1834912",
   "metadata": {},
   "source": [
    "뜻을 가지는 가장 작은 단위는 **단어**이다."
   ]
  },
  {
   "cell_type": "markdown",
   "id": "f0b7c5c1",
   "metadata": {},
   "source": [
    "컴퓨터는 모든 것을 수치로 인식한다. 이미지 역시 픽셀, 즉 숫자로 표현되고, 귀로 듣는 음파 역시 숫자로 표현이 된다. 예를 들어 빨강은 16진수 #ff0000이라고 표현되기도 한다. 그렇다면 **단어**는 어떻게 숫자로 표현될 수 있을까?"
   ]
  },
  {
   "cell_type": "markdown",
   "id": "73b0a529",
   "metadata": {},
   "source": [
    "### Vocabulary"
   ]
  },
  {
   "cell_type": "markdown",
   "id": "131eed44",
   "metadata": {},
   "source": [
    "단어를 숫자로 표현하기 위해서는 알고 있는 모든 단어의 명단을 만들어야 한다. 이를 보통 vocabulary라고 부른다. 단어마다 숫자를 부여하여 기억하는 것이다. 예를 들어 내가 아는 단어가 총 3개 (i, you, we)라면 i를 1, you를 2, we를 3이라고 번호를 주는 것이다. 이 번호를 index 또는 id라고 부른다."
   ]
  },
  {
   "cell_type": "markdown",
   "id": "e595e227",
   "metadata": {},
   "source": [
    "<img src=\"https://jiho-ml.com/content/images/2020/04/figure2-2.png\" width=\"550\"/>"
   ]
  },
  {
   "cell_type": "markdown",
   "id": "1608d1ea",
   "metadata": {},
   "source": [
    "위 그림은 one-hot vector이다. 단어 index에 해당하는 열만 1로 설정하고 나머지는 0으로 채우는 것이다. 참고로 위의 unk는 모든 열을 0으로 채운 단어로 unknown을 뜻한다. vocabulary에 없는 단어를 표현할 때 unk를 사용한다."
   ]
  },
  {
   "cell_type": "markdown",
   "id": "42fd08b8",
   "metadata": {},
   "source": [
    "### Word frequency"
   ]
  },
  {
   "cell_type": "markdown",
   "id": "304000b8",
   "metadata": {},
   "source": [
    "코퍼스에 아는 모든 단어를 넣는 것은 비효율적이다. 따라서 자주 등장하는 단어만 학습하는 게 합리적이다. 코퍼스 안에 있는 단어의 빈도수를 살펴보고 최소 빈도수를 정해 몇 번 이상 나오는 단어만 vocabulary에 넣거나 vocabulary size를 정하고 빈도수가 큰 단어부터 포함하는 식으로 vocabulary를 구성한다."
   ]
  }
 ],
 "metadata": {
  "kernelspec": {
   "display_name": "Python 3 (ipykernel)",
   "language": "python",
   "name": "python3"
  },
  "language_info": {
   "codemirror_mode": {
    "name": "ipython",
    "version": 3
   },
   "file_extension": ".py",
   "mimetype": "text/x-python",
   "name": "python",
   "nbconvert_exporter": "python",
   "pygments_lexer": "ipython3",
   "version": "3.9.12"
  }
 },
 "nbformat": 4,
 "nbformat_minor": 5
}
