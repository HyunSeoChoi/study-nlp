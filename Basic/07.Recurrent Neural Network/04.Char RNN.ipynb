{
 "cells": [
  {
   "cell_type": "markdown",
   "id": "4d42ebf2",
   "metadata": {},
   "source": [
    "문자 단위 RNN(Char RNN) [Reference](https://wikidocs.net/48649)"
   ]
  },
  {
   "cell_type": "code",
   "execution_count": 1,
   "id": "908ef24f",
   "metadata": {},
   "outputs": [],
   "source": [
    "import numpy as np\n",
    "import urllib.request\n",
    "from tensorflow.keras.utils import to_categorical\n",
    "\n",
    "# 데이터 로드\n",
    "urllib.request.urlretrieve(\"http://www.gutenberg.org/files/11/11-0.txt\", filename=\"11-0.txt\")\n",
    "\n",
    "f = open('11-0.txt', 'rb')\n",
    "sentences = []\n",
    "for sentence in f: # 데이터로부터 한 줄씩 읽는다.\n",
    "    sentence = sentence.strip() # strip()을 통해 \\r, \\n을 제거한다.\n",
    "    sentence = sentence.lower() # 소문자화.\n",
    "    sentence = sentence.decode('ascii', 'ignore') # \\xe2\\x80\\x99 등과 같은 바이트 열 제거\n",
    "    if len(sentence) > 0:\n",
    "        sentences.append(sentence)\n",
    "f.close()"
   ]
  },
  {
   "cell_type": "code",
   "execution_count": 2,
   "id": "c1f2172f",
   "metadata": {},
   "outputs": [
    {
     "data": {
      "text/plain": [
       "['the project gutenberg ebook of alices adventures in wonderland, by lewis carroll',\n",
       " 'this ebook is for the use of anyone anywhere in the united states and',\n",
       " 'most other parts of the world at no cost and with almost no restrictions',\n",
       " 'whatsoever. you may copy it, give it away or re-use it under the terms',\n",
       " 'of the project gutenberg license included with this ebook or online at']"
      ]
     },
     "execution_count": 2,
     "metadata": {},
     "output_type": "execute_result"
    }
   ],
   "source": [
    "sentences[:5]"
   ]
  },
  {
   "cell_type": "code",
   "execution_count": 3,
   "id": "7bfd9f47",
   "metadata": {},
   "outputs": [
    {
     "name": "stdout",
     "output_type": "stream",
     "text": [
      "문자열의 길이 또는 총 문자의 개수: 159484\n"
     ]
    }
   ],
   "source": [
    "total_data = ' '.join(sentences)\n",
    "print('문자열의 길이 또는 총 문자의 개수: %d' % len(total_data))"
   ]
  },
  {
   "cell_type": "code",
   "execution_count": 4,
   "id": "4039cbd6",
   "metadata": {},
   "outputs": [
    {
     "name": "stdout",
     "output_type": "stream",
     "text": [
      "the project gutenberg ebook of alices adventures in wonderland, by lewis carroll this ebook is for the use of anyone anywhere in the united states and most other parts of the world at no cost and with\n"
     ]
    }
   ],
   "source": [
    "print(total_data[:200])"
   ]
  },
  {
   "cell_type": "code",
   "execution_count": 5,
   "id": "9c52a435",
   "metadata": {},
   "outputs": [
    {
     "name": "stdout",
     "output_type": "stream",
     "text": [
      "문자 집합의 크기 : 56\n"
     ]
    }
   ],
   "source": [
    "char_vocab = sorted(list(set(total_data)))\n",
    "vocab_size = len(char_vocab)\n",
    "print ('문자 집합의 크기 : {}'.format(vocab_size))"
   ]
  },
  {
   "cell_type": "code",
   "execution_count": 6,
   "id": "60084411",
   "metadata": {},
   "outputs": [
    {
     "name": "stdout",
     "output_type": "stream",
     "text": [
      "문자 집합 : {' ': 0, '!': 1, '\"': 2, '#': 3, '$': 4, '%': 5, \"'\": 6, '(': 7, ')': 8, '*': 9, ',': 10, '-': 11, '.': 12, '/': 13, '0': 14, '1': 15, '2': 16, '3': 17, '4': 18, '5': 19, '6': 20, '7': 21, '8': 22, '9': 23, ':': 24, ';': 25, '?': 26, '[': 27, ']': 28, '_': 29, 'a': 30, 'b': 31, 'c': 32, 'd': 33, 'e': 34, 'f': 35, 'g': 36, 'h': 37, 'i': 38, 'j': 39, 'k': 40, 'l': 41, 'm': 42, 'n': 43, 'o': 44, 'p': 45, 'q': 46, 'r': 47, 's': 48, 't': 49, 'u': 50, 'v': 51, 'w': 52, 'x': 53, 'y': 54, 'z': 55}\n"
     ]
    }
   ],
   "source": [
    "# 문자에 고유한 정수 부여\n",
    "char_to_index = dict((char, index) for index, char in enumerate(char_vocab))\n",
    "print('문자 집합 :',char_to_index)"
   ]
  },
  {
   "cell_type": "code",
   "execution_count": 7,
   "id": "69e9313b",
   "metadata": {},
   "outputs": [],
   "source": [
    "index_to_char = {}\n",
    "for key, value in char_to_index.items():\n",
    "    index_to_char[value] = key"
   ]
  },
  {
   "cell_type": "code",
   "execution_count": 8,
   "id": "3d51d861",
   "metadata": {},
   "outputs": [],
   "source": [
    "# appl (입력 시퀀스) -> pple (예측해야하는 시퀀스) 예시\n",
    "train_X = 'appl'\n",
    "train_y = 'pple'"
   ]
  },
  {
   "cell_type": "code",
   "execution_count": 9,
   "id": "88384d51",
   "metadata": {},
   "outputs": [
    {
     "name": "stdout",
     "output_type": "stream",
     "text": [
      "샘플의 수 : 2658\n"
     ]
    }
   ],
   "source": [
    "seq_length = 60\n",
    "\n",
    "# 문자열의 길이를 seq_length로 나누면 전처리 후 생겨날 샘플 수\n",
    "n_samples = int(np.floor((len(total_data) - 1) / seq_length))\n",
    "print ('샘플의 수 : {}'.format(n_samples))"
   ]
  },
  {
   "cell_type": "code",
   "execution_count": 10,
   "id": "fa410eae",
   "metadata": {},
   "outputs": [],
   "source": [
    "train_X = []\n",
    "train_y = []\n",
    "\n",
    "for i in range(n_samples):\n",
    "    # 0:60 -> 60:120 -> 120:180로 loop를 돌면서 문장 샘플을 1개씩 pick.\n",
    "    X_sample = total_data[i * seq_length: (i + 1) * seq_length]\n",
    "\n",
    "    # 정수 인코딩\n",
    "    X_encoded = [char_to_index[c] for c in X_sample]\n",
    "    train_X.append(X_encoded)\n",
    "\n",
    "    # 오른쪽으로 1칸 쉬프트\n",
    "    y_sample = total_data[i * seq_length + 1: (i + 1) * seq_length + 1]\n",
    "    y_encoded = [char_to_index[c] for c in y_sample]\n",
    "    train_y.append(y_encoded)"
   ]
  },
  {
   "cell_type": "code",
   "execution_count": 11,
   "id": "bdede9b1",
   "metadata": {},
   "outputs": [
    {
     "name": "stdout",
     "output_type": "stream",
     "text": [
      "X 데이터의 첫번째 샘플 : [49, 37, 34, 0, 45, 47, 44, 39, 34, 32, 49, 0, 36, 50, 49, 34, 43, 31, 34, 47, 36, 0, 34, 31, 44, 44, 40, 0, 44, 35, 0, 30, 41, 38, 32, 34, 48, 0, 30, 33, 51, 34, 43, 49, 50, 47, 34, 48, 0, 38, 43, 0, 52, 44, 43, 33, 34, 47, 41, 30]\n",
      "y 데이터의 첫번째 샘플 : [37, 34, 0, 45, 47, 44, 39, 34, 32, 49, 0, 36, 50, 49, 34, 43, 31, 34, 47, 36, 0, 34, 31, 44, 44, 40, 0, 44, 35, 0, 30, 41, 38, 32, 34, 48, 0, 30, 33, 51, 34, 43, 49, 50, 47, 34, 48, 0, 38, 43, 0, 52, 44, 43, 33, 34, 47, 41, 30, 43]\n",
      "--------------------------------------------------\n",
      "X 데이터의 첫번째 샘플 디코딩 : ['t', 'h', 'e', ' ', 'p', 'r', 'o', 'j', 'e', 'c', 't', ' ', 'g', 'u', 't', 'e', 'n', 'b', 'e', 'r', 'g', ' ', 'e', 'b', 'o', 'o', 'k', ' ', 'o', 'f', ' ', 'a', 'l', 'i', 'c', 'e', 's', ' ', 'a', 'd', 'v', 'e', 'n', 't', 'u', 'r', 'e', 's', ' ', 'i', 'n', ' ', 'w', 'o', 'n', 'd', 'e', 'r', 'l', 'a']\n",
      "y 데이터의 첫번째 샘플 디코딩 : ['h', 'e', ' ', 'p', 'r', 'o', 'j', 'e', 'c', 't', ' ', 'g', 'u', 't', 'e', 'n', 'b', 'e', 'r', 'g', ' ', 'e', 'b', 'o', 'o', 'k', ' ', 'o', 'f', ' ', 'a', 'l', 'i', 'c', 'e', 's', ' ', 'a', 'd', 'v', 'e', 'n', 't', 'u', 'r', 'e', 's', ' ', 'i', 'n', ' ', 'w', 'o', 'n', 'd', 'e', 'r', 'l', 'a', 'n']\n"
     ]
    }
   ],
   "source": [
    "print('X 데이터의 첫번째 샘플 :',train_X[0])\n",
    "print('y 데이터의 첫번째 샘플 :',train_y[0])\n",
    "print('-'*50)\n",
    "print('X 데이터의 첫번째 샘플 디코딩 :',[index_to_char[i] for i in train_X[0]])\n",
    "print('y 데이터의 첫번째 샘플 디코딩 :',[index_to_char[i] for i in train_y[0]])"
   ]
  },
  {
   "cell_type": "code",
   "execution_count": 12,
   "id": "787a3062",
   "metadata": {},
   "outputs": [
    {
     "name": "stdout",
     "output_type": "stream",
     "text": [
      "[43, 33, 10, 0, 31, 54, 0, 41, 34, 52, 38, 48, 0, 32, 30, 47, 47, 44, 41, 41, 0, 49, 37, 38, 48, 0, 34, 31, 44, 44, 40, 0, 38, 48, 0, 35, 44, 47, 0, 49, 37, 34, 0, 50, 48, 34, 0, 44, 35, 0, 30, 43, 54, 44, 43, 34, 0, 30, 43, 54]\n"
     ]
    }
   ],
   "source": [
    "print(train_X[1])"
   ]
  },
  {
   "cell_type": "code",
   "execution_count": 13,
   "id": "02aaa177",
   "metadata": {},
   "outputs": [
    {
     "name": "stdout",
     "output_type": "stream",
     "text": [
      "[33, 10, 0, 31, 54, 0, 41, 34, 52, 38, 48, 0, 32, 30, 47, 47, 44, 41, 41, 0, 49, 37, 38, 48, 0, 34, 31, 44, 44, 40, 0, 38, 48, 0, 35, 44, 47, 0, 49, 37, 34, 0, 50, 48, 34, 0, 44, 35, 0, 30, 43, 54, 44, 43, 34, 0, 30, 43, 54, 52]\n"
     ]
    }
   ],
   "source": [
    "print(train_y[1])"
   ]
  },
  {
   "cell_type": "code",
   "execution_count": 14,
   "id": "c84b1c06",
   "metadata": {},
   "outputs": [
    {
     "name": "stdout",
     "output_type": "stream",
     "text": [
      "train_X의 크기(shape) : (2658, 60, 56)\n",
      "train_y의 크기(shape) : (2658, 60, 56)\n"
     ]
    }
   ],
   "source": [
    "train_X = to_categorical(train_X)\n",
    "train_y = to_categorical(train_y)\n",
    "\n",
    "print('train_X의 크기(shape) : {}'.format(train_X.shape)) # 원-핫 인코딩\n",
    "print('train_y의 크기(shape) : {}'.format(train_y.shape)) # 원-핫 인코딩"
   ]
  },
  {
   "cell_type": "code",
   "execution_count": 15,
   "id": "bbe4b8ce",
   "metadata": {
    "scrolled": true
   },
   "outputs": [
    {
     "name": "stdout",
     "output_type": "stream",
     "text": [
      "Epoch 1/80\n",
      "84/84 - 21s - loss: 3.0648 - accuracy: 0.1850 - 21s/epoch - 250ms/step\n",
      "Epoch 2/80\n",
      "84/84 - 17s - loss: 2.7638 - accuracy: 0.2415 - 17s/epoch - 206ms/step\n",
      "Epoch 3/80\n",
      "84/84 - 17s - loss: 2.4231 - accuracy: 0.3201 - 17s/epoch - 205ms/step\n",
      "Epoch 4/80\n",
      "84/84 - 17s - loss: 2.2808 - accuracy: 0.3542 - 17s/epoch - 207ms/step\n",
      "Epoch 5/80\n",
      "84/84 - 17s - loss: 2.1853 - accuracy: 0.3783 - 17s/epoch - 205ms/step\n",
      "Epoch 6/80\n",
      "84/84 - 17s - loss: 2.1021 - accuracy: 0.3973 - 17s/epoch - 208ms/step\n",
      "Epoch 7/80\n",
      "84/84 - 15s - loss: 2.0388 - accuracy: 0.4126 - 15s/epoch - 182ms/step\n",
      "Epoch 8/80\n",
      "84/84 - 14s - loss: 1.9821 - accuracy: 0.4270 - 14s/epoch - 165ms/step\n",
      "Epoch 9/80\n",
      "84/84 - 14s - loss: 1.9302 - accuracy: 0.4404 - 14s/epoch - 165ms/step\n",
      "Epoch 10/80\n",
      "84/84 - 14s - loss: 1.8842 - accuracy: 0.4536 - 14s/epoch - 166ms/step\n",
      "Epoch 11/80\n",
      "84/84 - 14s - loss: 1.8414 - accuracy: 0.4657 - 14s/epoch - 166ms/step\n",
      "Epoch 12/80\n",
      "84/84 - 14s - loss: 1.8030 - accuracy: 0.4765 - 14s/epoch - 166ms/step\n",
      "Epoch 13/80\n",
      "84/84 - 14s - loss: 1.7665 - accuracy: 0.4871 - 14s/epoch - 166ms/step\n",
      "Epoch 14/80\n",
      "84/84 - 14s - loss: 1.7274 - accuracy: 0.4967 - 14s/epoch - 167ms/step\n",
      "Epoch 15/80\n",
      "84/84 - 14s - loss: 1.6942 - accuracy: 0.5054 - 14s/epoch - 167ms/step\n",
      "Epoch 16/80\n",
      "84/84 - 14s - loss: 1.6609 - accuracy: 0.5157 - 14s/epoch - 166ms/step\n",
      "Epoch 17/80\n",
      "84/84 - 14s - loss: 1.6286 - accuracy: 0.5236 - 14s/epoch - 167ms/step\n",
      "Epoch 18/80\n",
      "84/84 - 14s - loss: 1.6031 - accuracy: 0.5292 - 14s/epoch - 165ms/step\n",
      "Epoch 19/80\n",
      "84/84 - 14s - loss: 1.5711 - accuracy: 0.5386 - 14s/epoch - 166ms/step\n",
      "Epoch 20/80\n",
      "84/84 - 15s - loss: 1.5423 - accuracy: 0.5458 - 15s/epoch - 175ms/step\n",
      "Epoch 21/80\n",
      "84/84 - 15s - loss: 1.5153 - accuracy: 0.5532 - 15s/epoch - 183ms/step\n",
      "Epoch 22/80\n",
      "84/84 - 15s - loss: 1.4877 - accuracy: 0.5603 - 15s/epoch - 173ms/step\n",
      "Epoch 23/80\n",
      "84/84 - 14s - loss: 1.4589 - accuracy: 0.5677 - 14s/epoch - 166ms/step\n",
      "Epoch 24/80\n",
      "84/84 - 15s - loss: 1.4362 - accuracy: 0.5743 - 15s/epoch - 174ms/step\n",
      "Epoch 25/80\n",
      "84/84 - 15s - loss: 1.4122 - accuracy: 0.5804 - 15s/epoch - 174ms/step\n",
      "Epoch 26/80\n",
      "84/84 - 15s - loss: 1.3817 - accuracy: 0.5890 - 15s/epoch - 184ms/step\n",
      "Epoch 27/80\n",
      "84/84 - 16s - loss: 1.3583 - accuracy: 0.5951 - 16s/epoch - 187ms/step\n",
      "Epoch 28/80\n",
      "84/84 - 15s - loss: 1.3358 - accuracy: 0.6015 - 15s/epoch - 173ms/step\n",
      "Epoch 29/80\n",
      "84/84 - 19s - loss: 1.3083 - accuracy: 0.6099 - 19s/epoch - 221ms/step\n",
      "Epoch 30/80\n",
      "84/84 - 15s - loss: 1.2847 - accuracy: 0.6164 - 15s/epoch - 178ms/step\n",
      "Epoch 31/80\n",
      "84/84 - 17s - loss: 1.2657 - accuracy: 0.6218 - 17s/epoch - 203ms/step\n",
      "Epoch 32/80\n",
      "84/84 - 17s - loss: 1.2412 - accuracy: 0.6292 - 17s/epoch - 203ms/step\n",
      "Epoch 33/80\n",
      "84/84 - 17s - loss: 1.2165 - accuracy: 0.6360 - 17s/epoch - 205ms/step\n",
      "Epoch 34/80\n",
      "84/84 - 16s - loss: 1.1915 - accuracy: 0.6443 - 16s/epoch - 185ms/step\n",
      "Epoch 35/80\n",
      "84/84 - 14s - loss: 1.1721 - accuracy: 0.6490 - 14s/epoch - 165ms/step\n",
      "Epoch 36/80\n",
      "84/84 - 15s - loss: 1.1479 - accuracy: 0.6554 - 15s/epoch - 176ms/step\n",
      "Epoch 37/80\n",
      "84/84 - 14s - loss: 1.1253 - accuracy: 0.6627 - 14s/epoch - 171ms/step\n",
      "Epoch 38/80\n",
      "84/84 - 14s - loss: 1.0997 - accuracy: 0.6704 - 14s/epoch - 169ms/step\n",
      "Epoch 39/80\n",
      "84/84 - 14s - loss: 1.0789 - accuracy: 0.6762 - 14s/epoch - 167ms/step\n",
      "Epoch 40/80\n",
      "84/84 - 15s - loss: 1.0563 - accuracy: 0.6825 - 15s/epoch - 179ms/step\n",
      "Epoch 41/80\n",
      "84/84 - 15s - loss: 1.0351 - accuracy: 0.6892 - 15s/epoch - 178ms/step\n",
      "Epoch 42/80\n",
      "84/84 - 15s - loss: 1.0086 - accuracy: 0.6970 - 15s/epoch - 178ms/step\n",
      "Epoch 43/80\n",
      "84/84 - 14s - loss: 0.9819 - accuracy: 0.7064 - 14s/epoch - 172ms/step\n",
      "Epoch 44/80\n",
      "84/84 - 14s - loss: 0.9614 - accuracy: 0.7118 - 14s/epoch - 172ms/step\n",
      "Epoch 45/80\n",
      "84/84 - 14s - loss: 0.9426 - accuracy: 0.7172 - 14s/epoch - 171ms/step\n",
      "Epoch 46/80\n",
      "84/84 - 15s - loss: 0.9134 - accuracy: 0.7259 - 15s/epoch - 182ms/step\n",
      "Epoch 47/80\n",
      "84/84 - 15s - loss: 0.8921 - accuracy: 0.7335 - 15s/epoch - 177ms/step\n",
      "Epoch 48/80\n",
      "84/84 - 15s - loss: 0.8728 - accuracy: 0.7395 - 15s/epoch - 179ms/step\n",
      "Epoch 49/80\n",
      "84/84 - 15s - loss: 0.8439 - accuracy: 0.7482 - 15s/epoch - 178ms/step\n",
      "Epoch 50/80\n",
      "84/84 - 15s - loss: 0.8377 - accuracy: 0.7491 - 15s/epoch - 176ms/step\n",
      "Epoch 51/80\n",
      "84/84 - 15s - loss: 0.8062 - accuracy: 0.7605 - 15s/epoch - 178ms/step\n",
      "Epoch 52/80\n",
      "84/84 - 14s - loss: 0.7816 - accuracy: 0.7680 - 14s/epoch - 171ms/step\n",
      "Epoch 53/80\n",
      "84/84 - 17s - loss: 0.7663 - accuracy: 0.7725 - 17s/epoch - 206ms/step\n",
      "Epoch 54/80\n",
      "84/84 - 15s - loss: 0.7309 - accuracy: 0.7852 - 15s/epoch - 178ms/step\n",
      "Epoch 55/80\n",
      "84/84 - 14s - loss: 0.7232 - accuracy: 0.7857 - 14s/epoch - 166ms/step\n",
      "Epoch 56/80\n",
      "84/84 - 14s - loss: 0.7024 - accuracy: 0.7929 - 14s/epoch - 162ms/step\n",
      "Epoch 57/80\n",
      "84/84 - 14s - loss: 0.6734 - accuracy: 0.8030 - 14s/epoch - 162ms/step\n",
      "Epoch 58/80\n",
      "84/84 - 14s - loss: 0.6513 - accuracy: 0.8112 - 14s/epoch - 163ms/step\n",
      "Epoch 59/80\n",
      "84/84 - 14s - loss: 0.6340 - accuracy: 0.8147 - 14s/epoch - 163ms/step\n",
      "Epoch 60/80\n",
      "84/84 - 14s - loss: 0.6269 - accuracy: 0.8168 - 14s/epoch - 163ms/step\n",
      "Epoch 61/80\n",
      "84/84 - 14s - loss: 0.5989 - accuracy: 0.8268 - 14s/epoch - 164ms/step\n",
      "Epoch 62/80\n",
      "84/84 - 14s - loss: 0.5849 - accuracy: 0.8309 - 14s/epoch - 162ms/step\n",
      "Epoch 63/80\n",
      "84/84 - 15s - loss: 0.5642 - accuracy: 0.8377 - 15s/epoch - 183ms/step\n",
      "Epoch 64/80\n",
      "84/84 - 14s - loss: 0.5472 - accuracy: 0.8433 - 14s/epoch - 168ms/step\n",
      "Epoch 65/80\n",
      "84/84 - 14s - loss: 0.5268 - accuracy: 0.8497 - 14s/epoch - 162ms/step\n",
      "Epoch 66/80\n",
      "84/84 - 14s - loss: 0.5054 - accuracy: 0.8575 - 14s/epoch - 163ms/step\n",
      "Epoch 67/80\n",
      "84/84 - 14s - loss: 0.4900 - accuracy: 0.8620 - 14s/epoch - 163ms/step\n",
      "Epoch 68/80\n",
      "84/84 - 14s - loss: 0.4880 - accuracy: 0.8615 - 14s/epoch - 163ms/step\n",
      "Epoch 69/80\n",
      "84/84 - 14s - loss: 0.4808 - accuracy: 0.8636 - 14s/epoch - 164ms/step\n",
      "Epoch 70/80\n",
      "84/84 - 14s - loss: 0.4559 - accuracy: 0.8723 - 14s/epoch - 163ms/step\n",
      "Epoch 71/80\n",
      "84/84 - 14s - loss: 0.4328 - accuracy: 0.8805 - 14s/epoch - 170ms/step\n",
      "Epoch 72/80\n",
      "84/84 - 14s - loss: 0.4111 - accuracy: 0.8889 - 14s/epoch - 163ms/step\n",
      "Epoch 73/80\n",
      "84/84 - 16s - loss: 0.4115 - accuracy: 0.8857 - 16s/epoch - 187ms/step\n",
      "Epoch 74/80\n",
      "84/84 - 15s - loss: 0.3853 - accuracy: 0.8966 - 15s/epoch - 180ms/step\n",
      "Epoch 75/80\n",
      "84/84 - 14s - loss: 0.3689 - accuracy: 0.9010 - 14s/epoch - 163ms/step\n",
      "Epoch 76/80\n",
      "84/84 - 14s - loss: 0.3553 - accuracy: 0.9059 - 14s/epoch - 163ms/step\n",
      "Epoch 77/80\n",
      "84/84 - 14s - loss: 0.3482 - accuracy: 0.9079 - 14s/epoch - 169ms/step\n",
      "Epoch 78/80\n",
      "84/84 - 16s - loss: 0.3543 - accuracy: 0.9032 - 16s/epoch - 190ms/step\n",
      "Epoch 79/80\n",
      "84/84 - 14s - loss: 0.3345 - accuracy: 0.9106 - 14s/epoch - 163ms/step\n",
      "Epoch 80/80\n",
      "84/84 - 14s - loss: 0.3234 - accuracy: 0.9140 - 14s/epoch - 163ms/step\n"
     ]
    },
    {
     "data": {
      "text/plain": [
       "<keras.callbacks.History at 0x22cce53af40>"
      ]
     },
     "execution_count": 15,
     "metadata": {},
     "output_type": "execute_result"
    }
   ],
   "source": [
    "from tensorflow.keras.models import Sequential\n",
    "from tensorflow.keras.layers import Dense, LSTM, TimeDistributed\n",
    "\n",
    "hidden_units = 256\n",
    "\n",
    "model = Sequential()\n",
    "model.add(LSTM(hidden_units, input_shape=(None, train_X.shape[2]), return_sequences=True))\n",
    "model.add(LSTM(hidden_units, return_sequences=True))\n",
    "model.add(TimeDistributed(Dense(vocab_size, activation='softmax')))\n",
    "\n",
    "model.compile(loss='categorical_crossentropy', optimizer='adam', metrics=['accuracy'])\n",
    "model.fit(train_X, train_y, epochs=80, verbose=2)"
   ]
  },
  {
   "cell_type": "code",
   "execution_count": 16,
   "id": "ca9dc901",
   "metadata": {},
   "outputs": [],
   "source": [
    "def sentence_generation(model, length):\n",
    "    # 문자에 대한 랜덤한 정수 생성\n",
    "    ix = [np.random.randint(vocab_size)]\n",
    "\n",
    "    # 랜덤한 정수로부터 맵핑되는 문자 생성\n",
    "    y_char = [index_to_char[ix[-1]]]\n",
    "    print(ix[-1],'번 문자',y_char[-1],'로 예측을 시작!')\n",
    "\n",
    "    # (1, length, 55) 크기의 X 생성. 즉, LSTM의 입력 시퀀스 생성\n",
    "    X = np.zeros((1, length, vocab_size))\n",
    "\n",
    "    for i in range(length):\n",
    "        # X[0][i][예측한 문자의 인덱스] = 1, 즉, 예측 문자를 다음 입력 시퀀스에 추가\n",
    "        X[0][i][ix[-1]] = 1\n",
    "        print(index_to_char[ix[-1]], end=\"\")\n",
    "        ix = np.argmax(model.predict(X[:, :i+1, :])[0], 1)\n",
    "        y_char.append(index_to_char[ix[-1]])\n",
    "    return ('').join(y_char)"
   ]
  },
  {
   "cell_type": "code",
   "execution_count": 17,
   "id": "b6106c93",
   "metadata": {},
   "outputs": [
    {
     "name": "stdout",
     "output_type": "stream",
     "text": [
      "28 번 문자 ] 로 예측을 시작!\n",
      "] what _is_ the use of repeating in relly thant well, but they were nayted to alice as he spoke, and] what _is_ the use of repeating in relly thant well, but they were nayted to alice as he spoke, and \n"
     ]
    }
   ],
   "source": [
    "result = sentence_generation(model, 100)\n",
    "print(result)"
   ]
  },
  {
   "cell_type": "code",
   "execution_count": 18,
   "id": "a58ff3d9",
   "metadata": {},
   "outputs": [],
   "source": [
    "import numpy as np\n",
    "from tensorflow.keras.utils import to_categorical"
   ]
  },
  {
   "cell_type": "code",
   "execution_count": 19,
   "id": "ebb82c59",
   "metadata": {},
   "outputs": [],
   "source": [
    "raw_text = '''\n",
    "I get on with life as a programmer,\n",
    "I like to contemplate beer.\n",
    "But when I start to daydream,\n",
    "My mind turns straight to wine.\n",
    "\n",
    "Do I love wine more than beer?\n",
    "\n",
    "I like to use words about beer.\n",
    "But when I stop my talking,\n",
    "My mind turns straight to wine.\n",
    "\n",
    "I hate bugs and errors.\n",
    "But I just think back to wine,\n",
    "And I'm happy once again.\n",
    "\n",
    "I like to hang out with programming and deep learning.\n",
    "But when left alone,\n",
    "My mind turns straight to wine.\n",
    "'''"
   ]
  },
  {
   "cell_type": "code",
   "execution_count": 20,
   "id": "c02a1614",
   "metadata": {},
   "outputs": [
    {
     "name": "stdout",
     "output_type": "stream",
     "text": [
      "I get on with life as a programmer, I like to contemplate beer. But when I start to daydream, My mind turns straight to wine. Do I love wine more than beer? I like to use words about beer. But when I stop my talking, My mind turns straight to wine. I hate bugs and errors. But I just think back to wine, And I'm happy once again. I like to hang out with programming and deep learning. But when left alone, My mind turns straight to wine.\n"
     ]
    }
   ],
   "source": [
    "tokens = raw_text.split()\n",
    "raw_text = ' '.join(tokens)\n",
    "print(raw_text)"
   ]
  },
  {
   "cell_type": "code",
   "execution_count": 21,
   "id": "37966d41",
   "metadata": {},
   "outputs": [
    {
     "name": "stdout",
     "output_type": "stream",
     "text": [
      "문자 집합 : [' ', \"'\", ',', '.', '?', 'A', 'B', 'D', 'I', 'M', 'a', 'b', 'c', 'd', 'e', 'f', 'g', 'h', 'i', 'j', 'k', 'l', 'm', 'n', 'o', 'p', 'r', 's', 't', 'u', 'v', 'w', 'y']\n",
      "문자 집합의 크기 : 33\n"
     ]
    }
   ],
   "source": [
    "# 중복을 제거한 문자 집합 생성\n",
    "char_vocab = sorted(list(set(raw_text)))\n",
    "vocab_size = len(char_vocab)\n",
    "print('문자 집합 :',char_vocab)\n",
    "print ('문자 집합의 크기 : {}'.format(vocab_size))"
   ]
  },
  {
   "cell_type": "code",
   "execution_count": 22,
   "id": "1af0fa4a",
   "metadata": {},
   "outputs": [
    {
     "name": "stdout",
     "output_type": "stream",
     "text": [
      "{' ': 0, \"'\": 1, ',': 2, '.': 3, '?': 4, 'A': 5, 'B': 6, 'D': 7, 'I': 8, 'M': 9, 'a': 10, 'b': 11, 'c': 12, 'd': 13, 'e': 14, 'f': 15, 'g': 16, 'h': 17, 'i': 18, 'j': 19, 'k': 20, 'l': 21, 'm': 22, 'n': 23, 'o': 24, 'p': 25, 'r': 26, 's': 27, 't': 28, 'u': 29, 'v': 30, 'w': 31, 'y': 32}\n"
     ]
    }
   ],
   "source": [
    "char_to_index = dict((char, index) for index, char in enumerate(char_vocab)) # 문자에 고유한 정수 인덱스 부여\n",
    "print(char_to_index)"
   ]
  },
  {
   "cell_type": "code",
   "execution_count": 23,
   "id": "eae46300",
   "metadata": {},
   "outputs": [
    {
     "name": "stdout",
     "output_type": "stream",
     "text": [
      "총 훈련 샘플의 수: 426\n"
     ]
    }
   ],
   "source": [
    "length = 11\n",
    "sequences = []\n",
    "for i in range(length, len(raw_text)):\n",
    "    seq = raw_text[i-length:i] # 길이 11의 문자열을 지속적으로 만든다.\n",
    "    sequences.append(seq)\n",
    "print('총 훈련 샘플의 수: %d' % len(sequences))"
   ]
  },
  {
   "cell_type": "code",
   "execution_count": 24,
   "id": "43d2118d",
   "metadata": {},
   "outputs": [
    {
     "data": {
      "text/plain": [
       "['I get on wi',\n",
       " ' get on wit',\n",
       " 'get on with',\n",
       " 'et on with ',\n",
       " 't on with l',\n",
       " ' on with li',\n",
       " 'on with lif',\n",
       " 'n with life',\n",
       " ' with life ',\n",
       " 'with life a']"
      ]
     },
     "execution_count": 24,
     "metadata": {},
     "output_type": "execute_result"
    }
   ],
   "source": [
    "sequences[:10]"
   ]
  },
  {
   "cell_type": "code",
   "execution_count": 25,
   "id": "99767c4f",
   "metadata": {},
   "outputs": [],
   "source": [
    "encoded_sequences = []\n",
    "for sequence in sequences: # 전체 데이터에서 문장 샘플을 1개씩 꺼낸다.\n",
    "    encoded_sequence = [char_to_index[char] for char in sequence] # 문장 샘플에서 각 문자에 대해서 정수 인코딩을 수행.\n",
    "    encoded_sequences.append(encoded_sequence)"
   ]
  },
  {
   "cell_type": "code",
   "execution_count": 26,
   "id": "87a3c01f",
   "metadata": {},
   "outputs": [
    {
     "data": {
      "text/plain": [
       "[[8, 0, 16, 14, 28, 0, 24, 23, 0, 31, 18],\n",
       " [0, 16, 14, 28, 0, 24, 23, 0, 31, 18, 28],\n",
       " [16, 14, 28, 0, 24, 23, 0, 31, 18, 28, 17],\n",
       " [14, 28, 0, 24, 23, 0, 31, 18, 28, 17, 0],\n",
       " [28, 0, 24, 23, 0, 31, 18, 28, 17, 0, 21]]"
      ]
     },
     "execution_count": 26,
     "metadata": {},
     "output_type": "execute_result"
    }
   ],
   "source": [
    "encoded_sequences[:5]"
   ]
  },
  {
   "cell_type": "code",
   "execution_count": 27,
   "id": "5920dd95",
   "metadata": {},
   "outputs": [],
   "source": [
    "encoded_sequences = np.array(encoded_sequences)\n",
    "\n",
    "# 맨 마지막 위치의 문자를 분리\n",
    "X_data = encoded_sequences[:,:-1]\n",
    "# 맨 마지막 위치의 문자를 저장\n",
    "y_data = encoded_sequences[:,-1]"
   ]
  },
  {
   "cell_type": "code",
   "execution_count": 28,
   "id": "5fbeeb6d",
   "metadata": {},
   "outputs": [
    {
     "name": "stdout",
     "output_type": "stream",
     "text": [
      "[[ 8  0 16 14 28  0 24 23  0 31]\n",
      " [ 0 16 14 28  0 24 23  0 31 18]\n",
      " [16 14 28  0 24 23  0 31 18 28]\n",
      " [14 28  0 24 23  0 31 18 28 17]\n",
      " [28  0 24 23  0 31 18 28 17  0]]\n",
      "[18 28 17  0 21]\n"
     ]
    }
   ],
   "source": [
    "print(X_data[:5])\n",
    "print(y_data[:5])"
   ]
  },
  {
   "cell_type": "code",
   "execution_count": 29,
   "id": "30b0f1d0",
   "metadata": {},
   "outputs": [],
   "source": [
    "# 원-핫 인코딩\n",
    "X_data_one_hot = [to_categorical(encoded, num_classes=vocab_size) for encoded in X_data]\n",
    "X_data_one_hot = np.array(X_data_one_hot)\n",
    "y_data_one_hot = to_categorical(y_data, num_classes=vocab_size)"
   ]
  },
  {
   "cell_type": "code",
   "execution_count": 30,
   "id": "d2de6628",
   "metadata": {},
   "outputs": [
    {
     "name": "stdout",
     "output_type": "stream",
     "text": [
      "(426, 10, 33)\n"
     ]
    }
   ],
   "source": [
    "print(X_data_one_hot.shape)"
   ]
  },
  {
   "cell_type": "code",
   "execution_count": 31,
   "id": "706a1096",
   "metadata": {},
   "outputs": [
    {
     "name": "stdout",
     "output_type": "stream",
     "text": [
      "Epoch 1/100\n",
      "14/14 - 2s - loss: 3.4717 - accuracy: 0.0681 - 2s/epoch - 108ms/step\n",
      "Epoch 2/100\n",
      "14/14 - 0s - loss: 3.3628 - accuracy: 0.1878 - 43ms/epoch - 3ms/step\n",
      "Epoch 3/100\n",
      "14/14 - 0s - loss: 3.0888 - accuracy: 0.1972 - 42ms/epoch - 3ms/step\n",
      "Epoch 4/100\n",
      "14/14 - 0s - loss: 2.9939 - accuracy: 0.1972 - 42ms/epoch - 3ms/step\n",
      "Epoch 5/100\n",
      "14/14 - 0s - loss: 2.9608 - accuracy: 0.1972 - 42ms/epoch - 3ms/step\n",
      "Epoch 6/100\n",
      "14/14 - 0s - loss: 2.9429 - accuracy: 0.1972 - 42ms/epoch - 3ms/step\n",
      "Epoch 7/100\n",
      "14/14 - 0s - loss: 2.9256 - accuracy: 0.1972 - 41ms/epoch - 3ms/step\n",
      "Epoch 8/100\n",
      "14/14 - 0s - loss: 2.9118 - accuracy: 0.1972 - 44ms/epoch - 3ms/step\n",
      "Epoch 9/100\n",
      "14/14 - 0s - loss: 2.8974 - accuracy: 0.1972 - 46ms/epoch - 3ms/step\n",
      "Epoch 10/100\n",
      "14/14 - 0s - loss: 2.8717 - accuracy: 0.1972 - 44ms/epoch - 3ms/step\n",
      "Epoch 11/100\n",
      "14/14 - 0s - loss: 2.8515 - accuracy: 0.1972 - 42ms/epoch - 3ms/step\n",
      "Epoch 12/100\n",
      "14/14 - 0s - loss: 2.8285 - accuracy: 0.1972 - 42ms/epoch - 3ms/step\n",
      "Epoch 13/100\n",
      "14/14 - 0s - loss: 2.7979 - accuracy: 0.1972 - 43ms/epoch - 3ms/step\n",
      "Epoch 14/100\n",
      "14/14 - 0s - loss: 2.7623 - accuracy: 0.2136 - 45ms/epoch - 3ms/step\n",
      "Epoch 15/100\n",
      "14/14 - 0s - loss: 2.7330 - accuracy: 0.2183 - 45ms/epoch - 3ms/step\n",
      "Epoch 16/100\n",
      "14/14 - 0s - loss: 2.6872 - accuracy: 0.2136 - 45ms/epoch - 3ms/step\n",
      "Epoch 17/100\n",
      "14/14 - 0s - loss: 2.6499 - accuracy: 0.2512 - 44ms/epoch - 3ms/step\n",
      "Epoch 18/100\n",
      "14/14 - 0s - loss: 2.6015 - accuracy: 0.2864 - 42ms/epoch - 3ms/step\n",
      "Epoch 19/100\n",
      "14/14 - 0s - loss: 2.5666 - accuracy: 0.2700 - 42ms/epoch - 3ms/step\n",
      "Epoch 20/100\n",
      "14/14 - 0s - loss: 2.5161 - accuracy: 0.2746 - 43ms/epoch - 3ms/step\n",
      "Epoch 21/100\n",
      "14/14 - 0s - loss: 2.4681 - accuracy: 0.2864 - 42ms/epoch - 3ms/step\n",
      "Epoch 22/100\n",
      "14/14 - 0s - loss: 2.4395 - accuracy: 0.2981 - 46ms/epoch - 3ms/step\n",
      "Epoch 23/100\n",
      "14/14 - 0s - loss: 2.3917 - accuracy: 0.2723 - 45ms/epoch - 3ms/step\n",
      "Epoch 24/100\n",
      "14/14 - 0s - loss: 2.3460 - accuracy: 0.3380 - 44ms/epoch - 3ms/step\n",
      "Epoch 25/100\n",
      "14/14 - 0s - loss: 2.2853 - accuracy: 0.3498 - 42ms/epoch - 3ms/step\n",
      "Epoch 26/100\n",
      "14/14 - 0s - loss: 2.2483 - accuracy: 0.3357 - 43ms/epoch - 3ms/step\n",
      "Epoch 27/100\n",
      "14/14 - 0s - loss: 2.2109 - accuracy: 0.3709 - 43ms/epoch - 3ms/step\n",
      "Epoch 28/100\n",
      "14/14 - 0s - loss: 2.1668 - accuracy: 0.3920 - 43ms/epoch - 3ms/step\n",
      "Epoch 29/100\n",
      "14/14 - 0s - loss: 2.1227 - accuracy: 0.4131 - 45ms/epoch - 3ms/step\n",
      "Epoch 30/100\n",
      "14/14 - 0s - loss: 2.0971 - accuracy: 0.4061 - 44ms/epoch - 3ms/step\n",
      "Epoch 31/100\n",
      "14/14 - 0s - loss: 2.0534 - accuracy: 0.4437 - 42ms/epoch - 3ms/step\n",
      "Epoch 32/100\n",
      "14/14 - 0s - loss: 2.0156 - accuracy: 0.4460 - 43ms/epoch - 3ms/step\n",
      "Epoch 33/100\n",
      "14/14 - 0s - loss: 1.9686 - accuracy: 0.4437 - 42ms/epoch - 3ms/step\n",
      "Epoch 34/100\n",
      "14/14 - 0s - loss: 1.9308 - accuracy: 0.4765 - 43ms/epoch - 3ms/step\n",
      "Epoch 35/100\n",
      "14/14 - 0s - loss: 1.9021 - accuracy: 0.4812 - 46ms/epoch - 3ms/step\n",
      "Epoch 36/100\n",
      "14/14 - 0s - loss: 1.8651 - accuracy: 0.4883 - 45ms/epoch - 3ms/step\n",
      "Epoch 37/100\n",
      "14/14 - 0s - loss: 1.8224 - accuracy: 0.5047 - 43ms/epoch - 3ms/step\n",
      "Epoch 38/100\n",
      "14/14 - 0s - loss: 1.7776 - accuracy: 0.5235 - 42ms/epoch - 3ms/step\n",
      "Epoch 39/100\n",
      "14/14 - 0s - loss: 1.7460 - accuracy: 0.5399 - 42ms/epoch - 3ms/step\n",
      "Epoch 40/100\n",
      "14/14 - 0s - loss: 1.6939 - accuracy: 0.5587 - 43ms/epoch - 3ms/step\n",
      "Epoch 41/100\n",
      "14/14 - 0s - loss: 1.6607 - accuracy: 0.5704 - 41ms/epoch - 3ms/step\n",
      "Epoch 42/100\n",
      "14/14 - 0s - loss: 1.6213 - accuracy: 0.5845 - 47ms/epoch - 3ms/step\n",
      "Epoch 43/100\n",
      "14/14 - 0s - loss: 1.5777 - accuracy: 0.6080 - 43ms/epoch - 3ms/step\n",
      "Epoch 44/100\n",
      "14/14 - 0s - loss: 1.5352 - accuracy: 0.6268 - 42ms/epoch - 3ms/step\n",
      "Epoch 45/100\n",
      "14/14 - 0s - loss: 1.5148 - accuracy: 0.6221 - 42ms/epoch - 3ms/step\n",
      "Epoch 46/100\n",
      "14/14 - 0s - loss: 1.4722 - accuracy: 0.6174 - 43ms/epoch - 3ms/step\n",
      "Epoch 47/100\n",
      "14/14 - 0s - loss: 1.4462 - accuracy: 0.6385 - 43ms/epoch - 3ms/step\n",
      "Epoch 48/100\n",
      "14/14 - 0s - loss: 1.3916 - accuracy: 0.6549 - 45ms/epoch - 3ms/step\n",
      "Epoch 49/100\n",
      "14/14 - 0s - loss: 1.3721 - accuracy: 0.6479 - 42ms/epoch - 3ms/step\n",
      "Epoch 50/100\n",
      "14/14 - 0s - loss: 1.3463 - accuracy: 0.6596 - 43ms/epoch - 3ms/step\n",
      "Epoch 51/100\n",
      "14/14 - 0s - loss: 1.3158 - accuracy: 0.6643 - 43ms/epoch - 3ms/step\n",
      "Epoch 52/100\n",
      "14/14 - 0s - loss: 1.2592 - accuracy: 0.6972 - 42ms/epoch - 3ms/step\n",
      "Epoch 53/100\n",
      "14/14 - 0s - loss: 1.2197 - accuracy: 0.6972 - 43ms/epoch - 3ms/step\n",
      "Epoch 54/100\n",
      "14/14 - 0s - loss: 1.2107 - accuracy: 0.7019 - 46ms/epoch - 3ms/step\n",
      "Epoch 55/100\n",
      "14/14 - 0s - loss: 1.1599 - accuracy: 0.7160 - 41ms/epoch - 3ms/step\n",
      "Epoch 56/100\n",
      "14/14 - 0s - loss: 1.1267 - accuracy: 0.7277 - 41ms/epoch - 3ms/step\n",
      "Epoch 57/100\n",
      "14/14 - 0s - loss: 1.0996 - accuracy: 0.7418 - 40ms/epoch - 3ms/step\n",
      "Epoch 58/100\n",
      "14/14 - 0s - loss: 1.0590 - accuracy: 0.7606 - 41ms/epoch - 3ms/step\n",
      "Epoch 59/100\n",
      "14/14 - 0s - loss: 1.0513 - accuracy: 0.7653 - 40ms/epoch - 3ms/step\n",
      "Epoch 60/100\n",
      "14/14 - 0s - loss: 1.0129 - accuracy: 0.7770 - 41ms/epoch - 3ms/step\n",
      "Epoch 61/100\n",
      "14/14 - 0s - loss: 0.9858 - accuracy: 0.7864 - 40ms/epoch - 3ms/step\n",
      "Epoch 62/100\n",
      "14/14 - 0s - loss: 0.9490 - accuracy: 0.7817 - 40ms/epoch - 3ms/step\n",
      "Epoch 63/100\n",
      "14/14 - 0s - loss: 0.9322 - accuracy: 0.7981 - 40ms/epoch - 3ms/step\n",
      "Epoch 64/100\n",
      "14/14 - 0s - loss: 0.8894 - accuracy: 0.8075 - 40ms/epoch - 3ms/step\n",
      "Epoch 65/100\n",
      "14/14 - 0s - loss: 0.8822 - accuracy: 0.8216 - 41ms/epoch - 3ms/step\n",
      "Epoch 66/100\n",
      "14/14 - 0s - loss: 0.8525 - accuracy: 0.8239 - 40ms/epoch - 3ms/step\n",
      "Epoch 67/100\n",
      "14/14 - 0s - loss: 0.8454 - accuracy: 0.8146 - 40ms/epoch - 3ms/step\n",
      "Epoch 68/100\n",
      "14/14 - 0s - loss: 0.7990 - accuracy: 0.8333 - 42ms/epoch - 3ms/step\n",
      "Epoch 69/100\n",
      "14/14 - 0s - loss: 0.7629 - accuracy: 0.8521 - 40ms/epoch - 3ms/step\n",
      "Epoch 70/100\n",
      "14/14 - 0s - loss: 0.7354 - accuracy: 0.8685 - 41ms/epoch - 3ms/step\n",
      "Epoch 71/100\n",
      "14/14 - 0s - loss: 0.7139 - accuracy: 0.8732 - 43ms/epoch - 3ms/step\n",
      "Epoch 72/100\n",
      "14/14 - 0s - loss: 0.7154 - accuracy: 0.8615 - 44ms/epoch - 3ms/step\n",
      "Epoch 73/100\n",
      "14/14 - 0s - loss: 0.6965 - accuracy: 0.8685 - 41ms/epoch - 3ms/step\n",
      "Epoch 74/100\n",
      "14/14 - 0s - loss: 0.6499 - accuracy: 0.8826 - 41ms/epoch - 3ms/step\n",
      "Epoch 75/100\n",
      "14/14 - 0s - loss: 0.6161 - accuracy: 0.8991 - 40ms/epoch - 3ms/step\n",
      "Epoch 76/100\n",
      "14/14 - 0s - loss: 0.5978 - accuracy: 0.9014 - 41ms/epoch - 3ms/step\n",
      "Epoch 77/100\n",
      "14/14 - 0s - loss: 0.5775 - accuracy: 0.9038 - 41ms/epoch - 3ms/step\n",
      "Epoch 78/100\n",
      "14/14 - 0s - loss: 0.5564 - accuracy: 0.9085 - 40ms/epoch - 3ms/step\n",
      "Epoch 79/100\n",
      "14/14 - 0s - loss: 0.5371 - accuracy: 0.9155 - 42ms/epoch - 3ms/step\n",
      "Epoch 80/100\n",
      "14/14 - 0s - loss: 0.5197 - accuracy: 0.9319 - 40ms/epoch - 3ms/step\n",
      "Epoch 81/100\n",
      "14/14 - 0s - loss: 0.5102 - accuracy: 0.9296 - 42ms/epoch - 3ms/step\n",
      "Epoch 82/100\n",
      "14/14 - 0s - loss: 0.4938 - accuracy: 0.9225 - 41ms/epoch - 3ms/step\n",
      "Epoch 83/100\n",
      "14/14 - 0s - loss: 0.4712 - accuracy: 0.9366 - 41ms/epoch - 3ms/step\n",
      "Epoch 84/100\n",
      "14/14 - 0s - loss: 0.4580 - accuracy: 0.9343 - 42ms/epoch - 3ms/step\n",
      "Epoch 85/100\n",
      "14/14 - 0s - loss: 0.4369 - accuracy: 0.9413 - 41ms/epoch - 3ms/step\n",
      "Epoch 86/100\n",
      "14/14 - 0s - loss: 0.4187 - accuracy: 0.9484 - 41ms/epoch - 3ms/step\n",
      "Epoch 87/100\n",
      "14/14 - 0s - loss: 0.4137 - accuracy: 0.9601 - 41ms/epoch - 3ms/step\n",
      "Epoch 88/100\n",
      "14/14 - 0s - loss: 0.3960 - accuracy: 0.9554 - 41ms/epoch - 3ms/step\n",
      "Epoch 89/100\n",
      "14/14 - 0s - loss: 0.3868 - accuracy: 0.9577 - 42ms/epoch - 3ms/step\n",
      "Epoch 90/100\n",
      "14/14 - 0s - loss: 0.3706 - accuracy: 0.9624 - 41ms/epoch - 3ms/step\n",
      "Epoch 91/100\n",
      "14/14 - 0s - loss: 0.3680 - accuracy: 0.9531 - 41ms/epoch - 3ms/step\n",
      "Epoch 92/100\n",
      "14/14 - 0s - loss: 0.3586 - accuracy: 0.9601 - 41ms/epoch - 3ms/step\n",
      "Epoch 93/100\n",
      "14/14 - 0s - loss: 0.3477 - accuracy: 0.9601 - 42ms/epoch - 3ms/step\n",
      "Epoch 94/100\n",
      "14/14 - 0s - loss: 0.3430 - accuracy: 0.9554 - 41ms/epoch - 3ms/step\n",
      "Epoch 95/100\n",
      "14/14 - 0s - loss: 0.3253 - accuracy: 0.9671 - 40ms/epoch - 3ms/step\n",
      "Epoch 96/100\n",
      "14/14 - 0s - loss: 0.3146 - accuracy: 0.9695 - 40ms/epoch - 3ms/step\n",
      "Epoch 97/100\n",
      "14/14 - 0s - loss: 0.3003 - accuracy: 0.9718 - 40ms/epoch - 3ms/step\n",
      "Epoch 98/100\n",
      "14/14 - 0s - loss: 0.2911 - accuracy: 0.9742 - 40ms/epoch - 3ms/step\n",
      "Epoch 99/100\n",
      "14/14 - 0s - loss: 0.2826 - accuracy: 0.9765 - 40ms/epoch - 3ms/step\n",
      "Epoch 100/100\n",
      "14/14 - 0s - loss: 0.2747 - accuracy: 0.9789 - 40ms/epoch - 3ms/step\n"
     ]
    },
    {
     "data": {
      "text/plain": [
       "<keras.callbacks.History at 0x22cd9a827f0>"
      ]
     },
     "execution_count": 31,
     "metadata": {},
     "output_type": "execute_result"
    }
   ],
   "source": [
    "from tensorflow.keras.models import Sequential\n",
    "from tensorflow.keras.layers import Dense, LSTM\n",
    "from tensorflow.keras.preprocessing.sequence import pad_sequences\n",
    "\n",
    "hidden_units = 64\n",
    "\n",
    "model = Sequential()\n",
    "model.add(LSTM(hidden_units, input_shape=(X_data_one_hot.shape[1], X_data_one_hot.shape[2])))\n",
    "model.add(Dense(vocab_size, activation='softmax'))\n",
    "\n",
    "model.compile(loss='categorical_crossentropy', optimizer='adam', metrics=['accuracy'])\n",
    "model.fit(X_data_one_hot, y_data_one_hot, epochs=100, verbose=2)"
   ]
  },
  {
   "cell_type": "code",
   "execution_count": 32,
   "id": "c64665c8",
   "metadata": {},
   "outputs": [],
   "source": [
    "def sentence_generation(model, char_to_index, seq_length, seed_text, n):\n",
    "\n",
    "    # 초기 시퀀스\n",
    "    init_text = seed_text\n",
    "    sentence = ''\n",
    "\n",
    "    # 다음 문자 예측은 총 n번만 반복.\n",
    "    for _ in range(n):\n",
    "        encoded = [char_to_index[char] for char in seed_text] # 현재 시퀀스에 대한 정수 인코딩\n",
    "        encoded = pad_sequences([encoded], maxlen=seq_length, padding='pre') # 데이터에 대한 패딩\n",
    "        encoded = to_categorical(encoded, num_classes=len(char_to_index))\n",
    "\n",
    "        # 입력한 X(현재 시퀀스)에 대해서 y를 예측하고 y(예측한 문자)를 result에 저장.\n",
    "        result = model.predict(encoded, verbose=0)\n",
    "        result = np.argmax(result, axis=1)\n",
    "\n",
    "        for char, index in char_to_index.items():\n",
    "            if index == result:\n",
    "                break\n",
    "\n",
    "        # 현재 시퀀스 + 예측 문자를 현재 시퀀스로 변경\n",
    "        seed_text = seed_text + char\n",
    "\n",
    "        # 예측 문자를 문장에 저장\n",
    "        sentence = sentence + char\n",
    "\n",
    "    # n번의 다음 문자 예측이 끝나면 최종 완성된 문장을 리턴.\n",
    "    sentence = init_text + sentence\n",
    "    return sentence"
   ]
  },
  {
   "cell_type": "code",
   "execution_count": 33,
   "id": "c9b43e02",
   "metadata": {},
   "outputs": [
    {
     "name": "stdout",
     "output_type": "stream",
     "text": [
      "I get on with life as a programmer, I like to contemplate beer. But when I start to daydre\n"
     ]
    }
   ],
   "source": [
    "print(sentence_generation(model, char_to_index, 10, 'I get on w', 80))"
   ]
  }
 ],
 "metadata": {
  "kernelspec": {
   "display_name": "Python 3 (ipykernel)",
   "language": "python",
   "name": "python3"
  },
  "language_info": {
   "codemirror_mode": {
    "name": "ipython",
    "version": 3
   },
   "file_extension": ".py",
   "mimetype": "text/x-python",
   "name": "python",
   "nbconvert_exporter": "python",
   "pygments_lexer": "ipython3",
   "version": "3.9.12"
  }
 },
 "nbformat": 4,
 "nbformat_minor": 5
}
