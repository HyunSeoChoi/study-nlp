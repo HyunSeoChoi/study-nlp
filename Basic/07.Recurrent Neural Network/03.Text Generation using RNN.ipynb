{
 "cells": [
  {
   "cell_type": "markdown",
   "id": "71c30abf",
   "metadata": {},
   "source": [
    "RNN을 이용한 텍스트 생성(Text Generation using RNN) [Reference](https://wikidocs.net/45101)"
   ]
  },
  {
   "cell_type": "code",
   "execution_count": 1,
   "id": "3a15f6ef",
   "metadata": {},
   "outputs": [],
   "source": [
    "import numpy as np\n",
    "from tensorflow.keras.preprocessing.text import Tokenizer\n",
    "from tensorflow.keras.preprocessing.sequence import pad_sequences\n",
    "from tensorflow.keras.utils import to_categorical"
   ]
  },
  {
   "cell_type": "code",
   "execution_count": 2,
   "id": "52ff4925",
   "metadata": {},
   "outputs": [],
   "source": [
    "text = \"\"\"경마장에 있는 말이 뛰고 있다\\n\n",
    "그의 말이 법이다\\n\n",
    "가는 말이 고와야 오는 말이 곱다\\n\"\"\""
   ]
  },
  {
   "cell_type": "code",
   "execution_count": 3,
   "id": "c612a27e",
   "metadata": {},
   "outputs": [
    {
     "name": "stdout",
     "output_type": "stream",
     "text": [
      "단어 집합의 크기 : 12\n"
     ]
    }
   ],
   "source": [
    "tokenizer = Tokenizer()\n",
    "tokenizer.fit_on_texts([text])\n",
    "vocab_size = len(tokenizer.word_index) + 1\n",
    "print('단어 집합의 크기 : %d' % vocab_size)"
   ]
  },
  {
   "cell_type": "code",
   "execution_count": 4,
   "id": "3762134b",
   "metadata": {},
   "outputs": [
    {
     "name": "stdout",
     "output_type": "stream",
     "text": [
      "{'말이': 1, '경마장에': 2, '있는': 3, '뛰고': 4, '있다': 5, '그의': 6, '법이다': 7, '가는': 8, '고와야': 9, '오는': 10, '곱다': 11}\n"
     ]
    }
   ],
   "source": [
    "print(tokenizer.word_index)"
   ]
  },
  {
   "cell_type": "code",
   "execution_count": 5,
   "id": "8ea5d10d",
   "metadata": {},
   "outputs": [
    {
     "name": "stdout",
     "output_type": "stream",
     "text": [
      "학습에 사용할 샘플의 개수: 11\n"
     ]
    }
   ],
   "source": [
    "sequences = list()\n",
    "for line in text.split('\\n'): # 줄바꿈 문자를 기준으로 문장 토큰화\n",
    "    encoded = tokenizer.texts_to_sequences([line])[0]\n",
    "    for i in range(1, len(encoded)):\n",
    "        sequence = encoded[:i+1]\n",
    "        sequences.append(sequence)\n",
    "\n",
    "print('학습에 사용할 샘플의 개수: %d' % len(sequences))"
   ]
  },
  {
   "cell_type": "code",
   "execution_count": 6,
   "id": "4a03dded",
   "metadata": {},
   "outputs": [
    {
     "name": "stdout",
     "output_type": "stream",
     "text": [
      "[[2, 3], [2, 3, 1], [2, 3, 1, 4], [2, 3, 1, 4, 5], [6, 1], [6, 1, 7], [8, 1], [8, 1, 9], [8, 1, 9, 10], [8, 1, 9, 10, 1], [8, 1, 9, 10, 1, 11]]\n"
     ]
    }
   ],
   "source": [
    "print(sequences)"
   ]
  },
  {
   "cell_type": "code",
   "execution_count": 7,
   "id": "9c2175a3",
   "metadata": {},
   "outputs": [
    {
     "name": "stdout",
     "output_type": "stream",
     "text": [
      "샘플의 최대 길이 : 6\n"
     ]
    }
   ],
   "source": [
    "max_len = max(len(l) for l in sequences) # 모든 샘플에서 길이가 가장 긴 샘플의 길이 출력\n",
    "print('샘플의 최대 길이 : {}'.format(max_len))"
   ]
  },
  {
   "cell_type": "code",
   "execution_count": 8,
   "id": "c27b0bd9",
   "metadata": {},
   "outputs": [],
   "source": [
    "sequences = pad_sequences(sequences, maxlen=max_len, padding='pre')"
   ]
  },
  {
   "cell_type": "code",
   "execution_count": 9,
   "id": "71d22b28",
   "metadata": {},
   "outputs": [
    {
     "name": "stdout",
     "output_type": "stream",
     "text": [
      "[[ 0  0  0  0  2  3]\n",
      " [ 0  0  0  2  3  1]\n",
      " [ 0  0  2  3  1  4]\n",
      " [ 0  2  3  1  4  5]\n",
      " [ 0  0  0  0  6  1]\n",
      " [ 0  0  0  6  1  7]\n",
      " [ 0  0  0  0  8  1]\n",
      " [ 0  0  0  8  1  9]\n",
      " [ 0  0  8  1  9 10]\n",
      " [ 0  8  1  9 10  1]\n",
      " [ 8  1  9 10  1 11]]\n"
     ]
    }
   ],
   "source": [
    "print(sequences)"
   ]
  },
  {
   "cell_type": "code",
   "execution_count": 10,
   "id": "3f019801",
   "metadata": {},
   "outputs": [],
   "source": [
    "sequences = np.array(sequences)\n",
    "X = sequences[:,:-1]\n",
    "y = sequences[:,-1]"
   ]
  },
  {
   "cell_type": "code",
   "execution_count": 11,
   "id": "f28ce1a0",
   "metadata": {},
   "outputs": [
    {
     "name": "stdout",
     "output_type": "stream",
     "text": [
      "[[ 0  0  0  0  2]\n",
      " [ 0  0  0  2  3]\n",
      " [ 0  0  2  3  1]\n",
      " [ 0  2  3  1  4]\n",
      " [ 0  0  0  0  6]\n",
      " [ 0  0  0  6  1]\n",
      " [ 0  0  0  0  8]\n",
      " [ 0  0  0  8  1]\n",
      " [ 0  0  8  1  9]\n",
      " [ 0  8  1  9 10]\n",
      " [ 8  1  9 10  1]]\n"
     ]
    }
   ],
   "source": [
    "print(X)"
   ]
  },
  {
   "cell_type": "code",
   "execution_count": 12,
   "id": "64c9f824",
   "metadata": {},
   "outputs": [
    {
     "name": "stdout",
     "output_type": "stream",
     "text": [
      "[ 3  1  4  5  1  7  1  9 10  1 11]\n"
     ]
    }
   ],
   "source": [
    "print(y)"
   ]
  },
  {
   "cell_type": "code",
   "execution_count": 13,
   "id": "ed0c694b",
   "metadata": {},
   "outputs": [],
   "source": [
    "y = to_categorical(y, num_classes=vocab_size)"
   ]
  },
  {
   "cell_type": "code",
   "execution_count": 14,
   "id": "4afbd85c",
   "metadata": {},
   "outputs": [
    {
     "name": "stdout",
     "output_type": "stream",
     "text": [
      "[[0. 0. 0. 1. 0. 0. 0. 0. 0. 0. 0. 0.]\n",
      " [0. 1. 0. 0. 0. 0. 0. 0. 0. 0. 0. 0.]\n",
      " [0. 0. 0. 0. 1. 0. 0. 0. 0. 0. 0. 0.]\n",
      " [0. 0. 0. 0. 0. 1. 0. 0. 0. 0. 0. 0.]\n",
      " [0. 1. 0. 0. 0. 0. 0. 0. 0. 0. 0. 0.]\n",
      " [0. 0. 0. 0. 0. 0. 0. 1. 0. 0. 0. 0.]\n",
      " [0. 1. 0. 0. 0. 0. 0. 0. 0. 0. 0. 0.]\n",
      " [0. 0. 0. 0. 0. 0. 0. 0. 0. 1. 0. 0.]\n",
      " [0. 0. 0. 0. 0. 0. 0. 0. 0. 0. 1. 0.]\n",
      " [0. 1. 0. 0. 0. 0. 0. 0. 0. 0. 0. 0.]\n",
      " [0. 0. 0. 0. 0. 0. 0. 0. 0. 0. 0. 1.]]\n"
     ]
    }
   ],
   "source": [
    "print(y)"
   ]
  },
  {
   "cell_type": "code",
   "execution_count": 15,
   "id": "af261a93",
   "metadata": {},
   "outputs": [],
   "source": [
    "from tensorflow.keras.models import Sequential\n",
    "from tensorflow.keras.layers import Embedding, Dense, SimpleRNN"
   ]
  },
  {
   "cell_type": "code",
   "execution_count": 16,
   "id": "50a1a456",
   "metadata": {},
   "outputs": [
    {
     "name": "stdout",
     "output_type": "stream",
     "text": [
      "Epoch 1/200\n",
      "1/1 - 1s - loss: 2.5017 - accuracy: 0.0909 - 851ms/epoch - 851ms/step\n",
      "Epoch 2/200\n",
      "1/1 - 0s - loss: 2.4882 - accuracy: 0.1818 - 2ms/epoch - 2ms/step\n",
      "Epoch 3/200\n",
      "1/1 - 0s - loss: 2.4745 - accuracy: 0.1818 - 2ms/epoch - 2ms/step\n",
      "Epoch 4/200\n",
      "1/1 - 0s - loss: 2.4605 - accuracy: 0.2727 - 2ms/epoch - 2ms/step\n",
      "Epoch 5/200\n",
      "1/1 - 0s - loss: 2.4462 - accuracy: 0.2727 - 2ms/epoch - 2ms/step\n",
      "Epoch 6/200\n",
      "1/1 - 0s - loss: 2.4314 - accuracy: 0.3636 - 2ms/epoch - 2ms/step\n",
      "Epoch 7/200\n",
      "1/1 - 0s - loss: 2.4161 - accuracy: 0.3636 - 2ms/epoch - 2ms/step\n",
      "Epoch 8/200\n",
      "1/1 - 0s - loss: 2.4002 - accuracy: 0.3636 - 2ms/epoch - 2ms/step\n",
      "Epoch 9/200\n",
      "1/1 - 0s - loss: 2.3835 - accuracy: 0.3636 - 4ms/epoch - 4ms/step\n",
      "Epoch 10/200\n",
      "1/1 - 0s - loss: 2.3661 - accuracy: 0.3636 - 2ms/epoch - 2ms/step\n",
      "Epoch 11/200\n",
      "1/1 - 0s - loss: 2.3479 - accuracy: 0.3636 - 2ms/epoch - 2ms/step\n",
      "Epoch 12/200\n",
      "1/1 - 0s - loss: 2.3287 - accuracy: 0.3636 - 3ms/epoch - 3ms/step\n",
      "Epoch 13/200\n",
      "1/1 - 0s - loss: 2.3087 - accuracy: 0.3636 - 3ms/epoch - 3ms/step\n",
      "Epoch 14/200\n",
      "1/1 - 0s - loss: 2.2876 - accuracy: 0.3636 - 2ms/epoch - 2ms/step\n",
      "Epoch 15/200\n",
      "1/1 - 0s - loss: 2.2656 - accuracy: 0.3636 - 2ms/epoch - 2ms/step\n",
      "Epoch 16/200\n",
      "1/1 - 0s - loss: 2.2425 - accuracy: 0.3636 - 998us/epoch - 998us/step\n",
      "Epoch 17/200\n",
      "1/1 - 0s - loss: 2.2186 - accuracy: 0.3636 - 2ms/epoch - 2ms/step\n",
      "Epoch 18/200\n",
      "1/1 - 0s - loss: 2.1939 - accuracy: 0.3636 - 2ms/epoch - 2ms/step\n",
      "Epoch 19/200\n",
      "1/1 - 0s - loss: 2.1685 - accuracy: 0.3636 - 2ms/epoch - 2ms/step\n",
      "Epoch 20/200\n",
      "1/1 - 0s - loss: 2.1427 - accuracy: 0.3636 - 2ms/epoch - 2ms/step\n",
      "Epoch 21/200\n",
      "1/1 - 0s - loss: 2.1166 - accuracy: 0.3636 - 998us/epoch - 998us/step\n",
      "Epoch 22/200\n",
      "1/1 - 0s - loss: 2.0905 - accuracy: 0.3636 - 2ms/epoch - 2ms/step\n",
      "Epoch 23/200\n",
      "1/1 - 0s - loss: 2.0649 - accuracy: 0.3636 - 2ms/epoch - 2ms/step\n",
      "Epoch 24/200\n",
      "1/1 - 0s - loss: 2.0401 - accuracy: 0.3636 - 2ms/epoch - 2ms/step\n",
      "Epoch 25/200\n",
      "1/1 - 0s - loss: 2.0164 - accuracy: 0.3636 - 2ms/epoch - 2ms/step\n",
      "Epoch 26/200\n",
      "1/1 - 0s - loss: 1.9942 - accuracy: 0.3636 - 3ms/epoch - 3ms/step\n",
      "Epoch 27/200\n",
      "1/1 - 0s - loss: 1.9738 - accuracy: 0.3636 - 2ms/epoch - 2ms/step\n",
      "Epoch 28/200\n",
      "1/1 - 0s - loss: 1.9555 - accuracy: 0.3636 - 2ms/epoch - 2ms/step\n",
      "Epoch 29/200\n",
      "1/1 - 0s - loss: 1.9392 - accuracy: 0.3636 - 2ms/epoch - 2ms/step\n",
      "Epoch 30/200\n",
      "1/1 - 0s - loss: 1.9250 - accuracy: 0.3636 - 2ms/epoch - 2ms/step\n",
      "Epoch 31/200\n",
      "1/1 - 0s - loss: 1.9125 - accuracy: 0.3636 - 2ms/epoch - 2ms/step\n",
      "Epoch 32/200\n",
      "1/1 - 0s - loss: 1.9014 - accuracy: 0.3636 - 2ms/epoch - 2ms/step\n",
      "Epoch 33/200\n",
      "1/1 - 0s - loss: 1.8914 - accuracy: 0.3636 - 2ms/epoch - 2ms/step\n",
      "Epoch 34/200\n",
      "1/1 - 0s - loss: 1.8818 - accuracy: 0.3636 - 2ms/epoch - 2ms/step\n",
      "Epoch 35/200\n",
      "1/1 - 0s - loss: 1.8724 - accuracy: 0.3636 - 5ms/epoch - 5ms/step\n",
      "Epoch 36/200\n",
      "1/1 - 0s - loss: 1.8629 - accuracy: 0.3636 - 998us/epoch - 998us/step\n",
      "Epoch 37/200\n",
      "1/1 - 0s - loss: 1.8530 - accuracy: 0.3636 - 998us/epoch - 998us/step\n",
      "Epoch 38/200\n",
      "1/1 - 0s - loss: 1.8428 - accuracy: 0.3636 - 2ms/epoch - 2ms/step\n",
      "Epoch 39/200\n",
      "1/1 - 0s - loss: 1.8322 - accuracy: 0.3636 - 2ms/epoch - 2ms/step\n",
      "Epoch 40/200\n",
      "1/1 - 0s - loss: 1.8214 - accuracy: 0.3636 - 2ms/epoch - 2ms/step\n",
      "Epoch 41/200\n",
      "1/1 - 0s - loss: 1.8105 - accuracy: 0.3636 - 996us/epoch - 996us/step\n",
      "Epoch 42/200\n",
      "1/1 - 0s - loss: 1.7997 - accuracy: 0.3636 - 3ms/epoch - 3ms/step\n",
      "Epoch 43/200\n",
      "1/1 - 0s - loss: 1.7889 - accuracy: 0.3636 - 2ms/epoch - 2ms/step\n",
      "Epoch 44/200\n",
      "1/1 - 0s - loss: 1.7781 - accuracy: 0.3636 - 3ms/epoch - 3ms/step\n",
      "Epoch 45/200\n",
      "1/1 - 0s - loss: 1.7674 - accuracy: 0.3636 - 2ms/epoch - 2ms/step\n",
      "Epoch 46/200\n",
      "1/1 - 0s - loss: 1.7565 - accuracy: 0.3636 - 996us/epoch - 996us/step\n",
      "Epoch 47/200\n",
      "1/1 - 0s - loss: 1.7454 - accuracy: 0.3636 - 2ms/epoch - 2ms/step\n",
      "Epoch 48/200\n",
      "1/1 - 0s - loss: 1.7340 - accuracy: 0.3636 - 2ms/epoch - 2ms/step\n",
      "Epoch 49/200\n",
      "1/1 - 0s - loss: 1.7221 - accuracy: 0.3636 - 3ms/epoch - 3ms/step\n",
      "Epoch 50/200\n",
      "1/1 - 0s - loss: 1.7096 - accuracy: 0.3636 - 2ms/epoch - 2ms/step\n",
      "Epoch 51/200\n",
      "1/1 - 0s - loss: 1.6965 - accuracy: 0.3636 - 2ms/epoch - 2ms/step\n",
      "Epoch 52/200\n",
      "1/1 - 0s - loss: 1.6829 - accuracy: 0.3636 - 2ms/epoch - 2ms/step\n",
      "Epoch 53/200\n",
      "1/1 - 0s - loss: 1.6685 - accuracy: 0.3636 - 2ms/epoch - 2ms/step\n",
      "Epoch 54/200\n",
      "1/1 - 0s - loss: 1.6536 - accuracy: 0.3636 - 3ms/epoch - 3ms/step\n",
      "Epoch 55/200\n",
      "1/1 - 0s - loss: 1.6381 - accuracy: 0.3636 - 996us/epoch - 996us/step\n",
      "Epoch 56/200\n",
      "1/1 - 0s - loss: 1.6220 - accuracy: 0.4545 - 2ms/epoch - 2ms/step\n",
      "Epoch 57/200\n",
      "1/1 - 0s - loss: 1.6053 - accuracy: 0.4545 - 2ms/epoch - 2ms/step\n",
      "Epoch 58/200\n",
      "1/1 - 0s - loss: 1.5882 - accuracy: 0.5455 - 998us/epoch - 998us/step\n",
      "Epoch 59/200\n",
      "1/1 - 0s - loss: 1.5704 - accuracy: 0.5455 - 3ms/epoch - 3ms/step\n",
      "Epoch 60/200\n",
      "1/1 - 0s - loss: 1.5522 - accuracy: 0.5455 - 997us/epoch - 997us/step\n",
      "Epoch 61/200\n",
      "1/1 - 0s - loss: 1.5335 - accuracy: 0.5455 - 2ms/epoch - 2ms/step\n",
      "Epoch 62/200\n",
      "1/1 - 0s - loss: 1.5142 - accuracy: 0.5455 - 2ms/epoch - 2ms/step\n",
      "Epoch 63/200\n",
      "1/1 - 0s - loss: 1.4946 - accuracy: 0.5455 - 996us/epoch - 996us/step\n",
      "Epoch 64/200\n",
      "1/1 - 0s - loss: 1.4745 - accuracy: 0.5455 - 3ms/epoch - 3ms/step\n",
      "Epoch 65/200\n",
      "1/1 - 0s - loss: 1.4542 - accuracy: 0.5455 - 2ms/epoch - 2ms/step\n",
      "Epoch 66/200\n",
      "1/1 - 0s - loss: 1.4337 - accuracy: 0.5455 - 2ms/epoch - 2ms/step\n",
      "Epoch 67/200\n",
      "1/1 - 0s - loss: 1.4131 - accuracy: 0.5455 - 998us/epoch - 998us/step\n",
      "Epoch 68/200\n",
      "1/1 - 0s - loss: 1.3924 - accuracy: 0.5455 - 997us/epoch - 997us/step\n",
      "Epoch 69/200\n",
      "1/1 - 0s - loss: 1.3719 - accuracy: 0.5455 - 2ms/epoch - 2ms/step\n",
      "Epoch 70/200\n",
      "1/1 - 0s - loss: 1.3514 - accuracy: 0.5455 - 2ms/epoch - 2ms/step\n",
      "Epoch 71/200\n",
      "1/1 - 0s - loss: 1.3310 - accuracy: 0.5455 - 996us/epoch - 996us/step\n",
      "Epoch 72/200\n",
      "1/1 - 0s - loss: 1.3109 - accuracy: 0.5455 - 2ms/epoch - 2ms/step\n",
      "Epoch 73/200\n",
      "1/1 - 0s - loss: 1.2909 - accuracy: 0.5455 - 997us/epoch - 997us/step\n",
      "Epoch 74/200\n",
      "1/1 - 0s - loss: 1.2711 - accuracy: 0.5455 - 997us/epoch - 997us/step\n",
      "Epoch 75/200\n",
      "1/1 - 0s - loss: 1.2514 - accuracy: 0.5455 - 2ms/epoch - 2ms/step\n",
      "Epoch 76/200\n",
      "1/1 - 0s - loss: 1.2320 - accuracy: 0.5455 - 2ms/epoch - 2ms/step\n",
      "Epoch 77/200\n",
      "1/1 - 0s - loss: 1.2128 - accuracy: 0.5455 - 998us/epoch - 998us/step\n",
      "Epoch 78/200\n",
      "1/1 - 0s - loss: 1.1939 - accuracy: 0.6364 - 2ms/epoch - 2ms/step\n",
      "Epoch 79/200\n",
      "1/1 - 0s - loss: 1.1752 - accuracy: 0.6364 - 997us/epoch - 997us/step\n",
      "Epoch 80/200\n",
      "1/1 - 0s - loss: 1.1567 - accuracy: 0.6364 - 998us/epoch - 998us/step\n",
      "Epoch 81/200\n",
      "1/1 - 0s - loss: 1.1384 - accuracy: 0.6364 - 997us/epoch - 997us/step\n",
      "Epoch 82/200\n",
      "1/1 - 0s - loss: 1.1204 - accuracy: 0.7273 - 2ms/epoch - 2ms/step\n",
      "Epoch 83/200\n",
      "1/1 - 0s - loss: 1.1025 - accuracy: 0.7273 - 998us/epoch - 998us/step\n",
      "Epoch 84/200\n",
      "1/1 - 0s - loss: 1.0848 - accuracy: 0.7273 - 997us/epoch - 997us/step\n",
      "Epoch 85/200\n",
      "1/1 - 0s - loss: 1.0673 - accuracy: 0.7273 - 2ms/epoch - 2ms/step\n",
      "Epoch 86/200\n",
      "1/1 - 0s - loss: 1.0500 - accuracy: 0.7273 - 2ms/epoch - 2ms/step\n",
      "Epoch 87/200\n",
      "1/1 - 0s - loss: 1.0330 - accuracy: 0.7273 - 2ms/epoch - 2ms/step\n",
      "Epoch 88/200\n",
      "1/1 - 0s - loss: 1.0161 - accuracy: 0.7273 - 997us/epoch - 997us/step\n",
      "Epoch 89/200\n",
      "1/1 - 0s - loss: 0.9995 - accuracy: 0.7273 - 2ms/epoch - 2ms/step\n",
      "Epoch 90/200\n",
      "1/1 - 0s - loss: 0.9830 - accuracy: 0.7273 - 2ms/epoch - 2ms/step\n",
      "Epoch 91/200\n",
      "1/1 - 0s - loss: 0.9668 - accuracy: 0.7273 - 997us/epoch - 997us/step\n",
      "Epoch 92/200\n",
      "1/1 - 0s - loss: 0.9507 - accuracy: 0.7273 - 2ms/epoch - 2ms/step\n",
      "Epoch 93/200\n",
      "1/1 - 0s - loss: 0.9349 - accuracy: 0.7273 - 2ms/epoch - 2ms/step\n",
      "Epoch 94/200\n",
      "1/1 - 0s - loss: 0.9193 - accuracy: 0.7273 - 997us/epoch - 997us/step\n",
      "Epoch 95/200\n",
      "1/1 - 0s - loss: 0.9039 - accuracy: 0.7273 - 2ms/epoch - 2ms/step\n",
      "Epoch 96/200\n",
      "1/1 - 0s - loss: 0.8887 - accuracy: 0.7273 - 2ms/epoch - 2ms/step\n",
      "Epoch 97/200\n",
      "1/1 - 0s - loss: 0.8737 - accuracy: 0.7273 - 2ms/epoch - 2ms/step\n",
      "Epoch 98/200\n",
      "1/1 - 0s - loss: 0.8589 - accuracy: 0.7273 - 2ms/epoch - 2ms/step\n",
      "Epoch 99/200\n",
      "1/1 - 0s - loss: 0.8444 - accuracy: 0.7273 - 2ms/epoch - 2ms/step\n",
      "Epoch 100/200\n",
      "1/1 - 0s - loss: 0.8300 - accuracy: 0.7273 - 2ms/epoch - 2ms/step\n",
      "Epoch 101/200\n",
      "1/1 - 0s - loss: 0.8159 - accuracy: 0.7273 - 2ms/epoch - 2ms/step\n",
      "Epoch 102/200\n",
      "1/1 - 0s - loss: 0.8020 - accuracy: 0.8182 - 997us/epoch - 997us/step\n",
      "Epoch 103/200\n",
      "1/1 - 0s - loss: 0.7883 - accuracy: 0.8182 - 2ms/epoch - 2ms/step\n"
     ]
    },
    {
     "name": "stdout",
     "output_type": "stream",
     "text": [
      "Epoch 104/200\n",
      "1/1 - 0s - loss: 0.7748 - accuracy: 0.8182 - 997us/epoch - 997us/step\n",
      "Epoch 105/200\n",
      "1/1 - 0s - loss: 0.7616 - accuracy: 0.8182 - 2ms/epoch - 2ms/step\n",
      "Epoch 106/200\n",
      "1/1 - 0s - loss: 0.7485 - accuracy: 0.8182 - 2ms/epoch - 2ms/step\n",
      "Epoch 107/200\n",
      "1/1 - 0s - loss: 0.7357 - accuracy: 0.8182 - 2ms/epoch - 2ms/step\n",
      "Epoch 108/200\n",
      "1/1 - 0s - loss: 0.7230 - accuracy: 0.8182 - 998us/epoch - 998us/step\n",
      "Epoch 109/200\n",
      "1/1 - 0s - loss: 0.7106 - accuracy: 0.8182 - 996us/epoch - 996us/step\n",
      "Epoch 110/200\n",
      "1/1 - 0s - loss: 0.6984 - accuracy: 0.9091 - 997us/epoch - 997us/step\n",
      "Epoch 111/200\n",
      "1/1 - 0s - loss: 0.6863 - accuracy: 0.9091 - 2ms/epoch - 2ms/step\n",
      "Epoch 112/200\n",
      "1/1 - 0s - loss: 0.6745 - accuracy: 0.9091 - 2ms/epoch - 2ms/step\n",
      "Epoch 113/200\n",
      "1/1 - 0s - loss: 0.6629 - accuracy: 0.9091 - 2ms/epoch - 2ms/step\n",
      "Epoch 114/200\n",
      "1/1 - 0s - loss: 0.6515 - accuracy: 0.9091 - 997us/epoch - 997us/step\n",
      "Epoch 115/200\n",
      "1/1 - 0s - loss: 0.6402 - accuracy: 0.9091 - 2ms/epoch - 2ms/step\n",
      "Epoch 116/200\n",
      "1/1 - 0s - loss: 0.6292 - accuracy: 0.9091 - 2ms/epoch - 2ms/step\n",
      "Epoch 117/200\n",
      "1/1 - 0s - loss: 0.6183 - accuracy: 0.9091 - 2ms/epoch - 2ms/step\n",
      "Epoch 118/200\n",
      "1/1 - 0s - loss: 0.6076 - accuracy: 0.9091 - 2ms/epoch - 2ms/step\n",
      "Epoch 119/200\n",
      "1/1 - 0s - loss: 0.5971 - accuracy: 0.9091 - 998us/epoch - 998us/step\n",
      "Epoch 120/200\n",
      "1/1 - 0s - loss: 0.5867 - accuracy: 0.9091 - 2ms/epoch - 2ms/step\n",
      "Epoch 121/200\n",
      "1/1 - 0s - loss: 0.5766 - accuracy: 0.9091 - 2ms/epoch - 2ms/step\n",
      "Epoch 122/200\n",
      "1/1 - 0s - loss: 0.5665 - accuracy: 0.9091 - 2ms/epoch - 2ms/step\n",
      "Epoch 123/200\n",
      "1/1 - 0s - loss: 0.5567 - accuracy: 0.9091 - 2ms/epoch - 2ms/step\n",
      "Epoch 124/200\n",
      "1/1 - 0s - loss: 0.5470 - accuracy: 0.9091 - 2ms/epoch - 2ms/step\n",
      "Epoch 125/200\n",
      "1/1 - 0s - loss: 0.5374 - accuracy: 0.9091 - 997us/epoch - 997us/step\n",
      "Epoch 126/200\n",
      "1/1 - 0s - loss: 0.5280 - accuracy: 0.9091 - 998us/epoch - 998us/step\n",
      "Epoch 127/200\n",
      "1/1 - 0s - loss: 0.5188 - accuracy: 0.9091 - 2ms/epoch - 2ms/step\n",
      "Epoch 128/200\n",
      "1/1 - 0s - loss: 0.5097 - accuracy: 0.9091 - 2ms/epoch - 2ms/step\n",
      "Epoch 129/200\n",
      "1/1 - 0s - loss: 0.5007 - accuracy: 0.9091 - 2ms/epoch - 2ms/step\n",
      "Epoch 130/200\n",
      "1/1 - 0s - loss: 0.4918 - accuracy: 0.9091 - 2ms/epoch - 2ms/step\n",
      "Epoch 131/200\n",
      "1/1 - 0s - loss: 0.4831 - accuracy: 0.9091 - 2ms/epoch - 2ms/step\n",
      "Epoch 132/200\n",
      "1/1 - 0s - loss: 0.4746 - accuracy: 0.9091 - 2ms/epoch - 2ms/step\n",
      "Epoch 133/200\n",
      "1/1 - 0s - loss: 0.4661 - accuracy: 0.9091 - 998us/epoch - 998us/step\n",
      "Epoch 134/200\n",
      "1/1 - 0s - loss: 0.4579 - accuracy: 0.9091 - 998us/epoch - 998us/step\n",
      "Epoch 135/200\n",
      "1/1 - 0s - loss: 0.4497 - accuracy: 0.9091 - 997us/epoch - 997us/step\n",
      "Epoch 136/200\n",
      "1/1 - 0s - loss: 0.4417 - accuracy: 0.9091 - 2ms/epoch - 2ms/step\n",
      "Epoch 137/200\n",
      "1/1 - 0s - loss: 0.4338 - accuracy: 0.9091 - 2ms/epoch - 2ms/step\n",
      "Epoch 138/200\n",
      "1/1 - 0s - loss: 0.4260 - accuracy: 0.9091 - 2ms/epoch - 2ms/step\n",
      "Epoch 139/200\n",
      "1/1 - 0s - loss: 0.4184 - accuracy: 0.9091 - 2ms/epoch - 2ms/step\n",
      "Epoch 140/200\n",
      "1/1 - 0s - loss: 0.4109 - accuracy: 0.9091 - 2ms/epoch - 2ms/step\n",
      "Epoch 141/200\n",
      "1/1 - 0s - loss: 0.4035 - accuracy: 0.9091 - 2ms/epoch - 2ms/step\n",
      "Epoch 142/200\n",
      "1/1 - 0s - loss: 0.3963 - accuracy: 0.9091 - 2ms/epoch - 2ms/step\n",
      "Epoch 143/200\n",
      "1/1 - 0s - loss: 0.3892 - accuracy: 0.9091 - 997us/epoch - 997us/step\n",
      "Epoch 144/200\n",
      "1/1 - 0s - loss: 0.3822 - accuracy: 0.9091 - 2ms/epoch - 2ms/step\n",
      "Epoch 145/200\n",
      "1/1 - 0s - loss: 0.3754 - accuracy: 0.9091 - 2ms/epoch - 2ms/step\n",
      "Epoch 146/200\n",
      "1/1 - 0s - loss: 0.3687 - accuracy: 0.9091 - 998us/epoch - 998us/step\n",
      "Epoch 147/200\n",
      "1/1 - 0s - loss: 0.3621 - accuracy: 0.9091 - 2ms/epoch - 2ms/step\n",
      "Epoch 148/200\n",
      "1/1 - 0s - loss: 0.3556 - accuracy: 0.9091 - 998us/epoch - 998us/step\n",
      "Epoch 149/200\n",
      "1/1 - 0s - loss: 0.3493 - accuracy: 0.9091 - 2ms/epoch - 2ms/step\n",
      "Epoch 150/200\n",
      "1/1 - 0s - loss: 0.3431 - accuracy: 0.9091 - 2ms/epoch - 2ms/step\n",
      "Epoch 151/200\n",
      "1/1 - 0s - loss: 0.3370 - accuracy: 0.9091 - 2ms/epoch - 2ms/step\n",
      "Epoch 152/200\n",
      "1/1 - 0s - loss: 0.3311 - accuracy: 0.9091 - 2ms/epoch - 2ms/step\n",
      "Epoch 153/200\n",
      "1/1 - 0s - loss: 0.3252 - accuracy: 0.9091 - 998us/epoch - 998us/step\n",
      "Epoch 154/200\n",
      "1/1 - 0s - loss: 0.3195 - accuracy: 0.9091 - 2ms/epoch - 2ms/step\n",
      "Epoch 155/200\n",
      "1/1 - 0s - loss: 0.3139 - accuracy: 0.9091 - 2ms/epoch - 2ms/step\n",
      "Epoch 156/200\n",
      "1/1 - 0s - loss: 0.3084 - accuracy: 0.9091 - 999us/epoch - 999us/step\n",
      "Epoch 157/200\n",
      "1/1 - 0s - loss: 0.3031 - accuracy: 0.9091 - 2ms/epoch - 2ms/step\n",
      "Epoch 158/200\n",
      "1/1 - 0s - loss: 0.2978 - accuracy: 0.9091 - 997us/epoch - 997us/step\n",
      "Epoch 159/200\n",
      "1/1 - 0s - loss: 0.2927 - accuracy: 0.9091 - 2ms/epoch - 2ms/step\n",
      "Epoch 160/200\n",
      "1/1 - 0s - loss: 0.2876 - accuracy: 0.9091 - 2ms/epoch - 2ms/step\n",
      "Epoch 161/200\n",
      "1/1 - 0s - loss: 0.2827 - accuracy: 0.9091 - 2ms/epoch - 2ms/step\n",
      "Epoch 162/200\n",
      "1/1 - 0s - loss: 0.2778 - accuracy: 0.9091 - 2ms/epoch - 2ms/step\n",
      "Epoch 163/200\n",
      "1/1 - 0s - loss: 0.2731 - accuracy: 0.9091 - 2ms/epoch - 2ms/step\n",
      "Epoch 164/200\n",
      "1/1 - 0s - loss: 0.2685 - accuracy: 0.9091 - 2ms/epoch - 2ms/step\n",
      "Epoch 165/200\n",
      "1/1 - 0s - loss: 0.2639 - accuracy: 0.9091 - 2ms/epoch - 2ms/step\n",
      "Epoch 166/200\n",
      "1/1 - 0s - loss: 0.2595 - accuracy: 0.9091 - 2ms/epoch - 2ms/step\n",
      "Epoch 167/200\n",
      "1/1 - 0s - loss: 0.2551 - accuracy: 0.9091 - 2ms/epoch - 2ms/step\n",
      "Epoch 168/200\n",
      "1/1 - 0s - loss: 0.2509 - accuracy: 0.9091 - 2ms/epoch - 2ms/step\n",
      "Epoch 169/200\n",
      "1/1 - 0s - loss: 0.2467 - accuracy: 0.9091 - 997us/epoch - 997us/step\n",
      "Epoch 170/200\n",
      "1/1 - 0s - loss: 0.2426 - accuracy: 0.9091 - 2ms/epoch - 2ms/step\n",
      "Epoch 171/200\n",
      "1/1 - 0s - loss: 0.2386 - accuracy: 0.9091 - 997us/epoch - 997us/step\n",
      "Epoch 172/200\n",
      "1/1 - 0s - loss: 0.2346 - accuracy: 0.9091 - 2ms/epoch - 2ms/step\n",
      "Epoch 173/200\n",
      "1/1 - 0s - loss: 0.2308 - accuracy: 0.9091 - 2ms/epoch - 2ms/step\n",
      "Epoch 174/200\n",
      "1/1 - 0s - loss: 0.2270 - accuracy: 0.9091 - 2ms/epoch - 2ms/step\n",
      "Epoch 175/200\n",
      "1/1 - 0s - loss: 0.2233 - accuracy: 0.9091 - 6ms/epoch - 6ms/step\n",
      "Epoch 176/200\n",
      "1/1 - 0s - loss: 0.2196 - accuracy: 0.9091 - 2ms/epoch - 2ms/step\n",
      "Epoch 177/200\n",
      "1/1 - 0s - loss: 0.2160 - accuracy: 0.9091 - 2ms/epoch - 2ms/step\n",
      "Epoch 178/200\n",
      "1/1 - 0s - loss: 0.2125 - accuracy: 0.9091 - 997us/epoch - 997us/step\n",
      "Epoch 179/200\n",
      "1/1 - 0s - loss: 0.2091 - accuracy: 0.9091 - 2ms/epoch - 2ms/step\n",
      "Epoch 180/200\n",
      "1/1 - 0s - loss: 0.2057 - accuracy: 0.9091 - 997us/epoch - 997us/step\n",
      "Epoch 181/200\n",
      "1/1 - 0s - loss: 0.2024 - accuracy: 0.9091 - 2ms/epoch - 2ms/step\n",
      "Epoch 182/200\n",
      "1/1 - 0s - loss: 0.1991 - accuracy: 0.9091 - 997us/epoch - 997us/step\n",
      "Epoch 183/200\n",
      "1/1 - 0s - loss: 0.1959 - accuracy: 0.9091 - 2ms/epoch - 2ms/step\n",
      "Epoch 184/200\n",
      "1/1 - 0s - loss: 0.1927 - accuracy: 0.9091 - 2ms/epoch - 2ms/step\n",
      "Epoch 185/200\n",
      "1/1 - 0s - loss: 0.1896 - accuracy: 0.9091 - 2ms/epoch - 2ms/step\n",
      "Epoch 186/200\n",
      "1/1 - 0s - loss: 0.1866 - accuracy: 0.9091 - 2ms/epoch - 2ms/step\n",
      "Epoch 187/200\n",
      "1/1 - 0s - loss: 0.1836 - accuracy: 0.9091 - 998us/epoch - 998us/step\n",
      "Epoch 188/200\n",
      "1/1 - 0s - loss: 0.1807 - accuracy: 1.0000 - 998us/epoch - 998us/step\n",
      "Epoch 189/200\n",
      "1/1 - 0s - loss: 0.1778 - accuracy: 1.0000 - 998us/epoch - 998us/step\n",
      "Epoch 190/200\n",
      "1/1 - 0s - loss: 0.1749 - accuracy: 1.0000 - 2ms/epoch - 2ms/step\n",
      "Epoch 191/200\n",
      "1/1 - 0s - loss: 0.1721 - accuracy: 1.0000 - 2ms/epoch - 2ms/step\n",
      "Epoch 192/200\n",
      "1/1 - 0s - loss: 0.1694 - accuracy: 1.0000 - 2ms/epoch - 2ms/step\n",
      "Epoch 193/200\n",
      "1/1 - 0s - loss: 0.1667 - accuracy: 1.0000 - 2ms/epoch - 2ms/step\n",
      "Epoch 194/200\n",
      "1/1 - 0s - loss: 0.1640 - accuracy: 1.0000 - 998us/epoch - 998us/step\n",
      "Epoch 195/200\n",
      "1/1 - 0s - loss: 0.1614 - accuracy: 1.0000 - 2ms/epoch - 2ms/step\n",
      "Epoch 196/200\n",
      "1/1 - 0s - loss: 0.1588 - accuracy: 1.0000 - 2ms/epoch - 2ms/step\n",
      "Epoch 197/200\n",
      "1/1 - 0s - loss: 0.1563 - accuracy: 1.0000 - 997us/epoch - 997us/step\n",
      "Epoch 198/200\n",
      "1/1 - 0s - loss: 0.1538 - accuracy: 1.0000 - 2ms/epoch - 2ms/step\n",
      "Epoch 199/200\n",
      "1/1 - 0s - loss: 0.1513 - accuracy: 1.0000 - 2ms/epoch - 2ms/step\n",
      "Epoch 200/200\n",
      "1/1 - 0s - loss: 0.1489 - accuracy: 1.0000 - 2ms/epoch - 2ms/step\n"
     ]
    },
    {
     "data": {
      "text/plain": [
       "<keras.callbacks.History at 0x21335c269d0>"
      ]
     },
     "execution_count": 16,
     "metadata": {},
     "output_type": "execute_result"
    }
   ],
   "source": [
    "embedding_dim = 10\n",
    "hidden_units = 32\n",
    "\n",
    "model = Sequential()\n",
    "model.add(Embedding(vocab_size, embedding_dim))\n",
    "model.add(SimpleRNN(hidden_units))\n",
    "model.add(Dense(vocab_size, activation='softmax'))\n",
    "model.compile(loss='categorical_crossentropy', optimizer='adam', metrics=['accuracy'])\n",
    "model.fit(X, y, epochs=200, verbose=2)"
   ]
  },
  {
   "cell_type": "code",
   "execution_count": 17,
   "id": "c33c6322",
   "metadata": {},
   "outputs": [],
   "source": [
    "def sentence_generation(model, tokenizer, current_word, n): # 모델, 토크나이저, 현재 단어, 반복할 횟수\n",
    "    init_word = current_word\n",
    "    sentence = ''\n",
    "\n",
    "    # n번 반복\n",
    "    for _ in range(n):\n",
    "        # 현재 단어에 대한 정수 인코딩과 패딩\n",
    "        encoded = tokenizer.texts_to_sequences([current_word])[0]\n",
    "        encoded = pad_sequences([encoded], maxlen=5, padding='pre')\n",
    "        # 입력한 X(현재 단어)에 대해서 Y를 예측하고 Y(예측한 단어)를 result에 저장.\n",
    "        result = model.predict(encoded, verbose=0)\n",
    "        result = np.argmax(result, axis=1)\n",
    "\n",
    "        for word, index in tokenizer.word_index.items(): \n",
    "            # 만약 예측한 단어와 인덱스와 동일한 단어가 있다면 break\n",
    "            if index == result:\n",
    "                break\n",
    "\n",
    "        # 현재 단어 + ' ' + 예측 단어를 현재 단어로 변경\n",
    "        current_word = current_word + ' '  + word\n",
    "\n",
    "        # 예측 단어를 문장에 저장\n",
    "        sentence = sentence + ' ' + word\n",
    "\n",
    "    sentence = init_word + sentence\n",
    "    return sentence"
   ]
  },
  {
   "cell_type": "code",
   "execution_count": 18,
   "id": "183c79e3",
   "metadata": {},
   "outputs": [
    {
     "name": "stdout",
     "output_type": "stream",
     "text": [
      "경마장에 있는 말이 뛰고 있다\n"
     ]
    }
   ],
   "source": [
    "print(sentence_generation(model, tokenizer, '경마장에', 4))"
   ]
  },
  {
   "cell_type": "code",
   "execution_count": 19,
   "id": "45bc4c9d",
   "metadata": {},
   "outputs": [
    {
     "name": "stdout",
     "output_type": "stream",
     "text": [
      "그의 말이 법이다\n"
     ]
    }
   ],
   "source": [
    "print(sentence_generation(model, tokenizer, '그의', 2))"
   ]
  },
  {
   "cell_type": "code",
   "execution_count": 20,
   "id": "818ee9fd",
   "metadata": {},
   "outputs": [
    {
     "name": "stdout",
     "output_type": "stream",
     "text": [
      "가는 말이 고와야 오는 말이 곱다\n"
     ]
    }
   ],
   "source": [
    "print(sentence_generation(model, tokenizer, '가는', 5))"
   ]
  },
  {
   "cell_type": "code",
   "execution_count": 21,
   "id": "34ba8158",
   "metadata": {},
   "outputs": [],
   "source": [
    "import pandas as pd\n",
    "import numpy as np\n",
    "from string import punctuation\n",
    "\n",
    "from tensorflow.keras.preprocessing.text import Tokenizer\n",
    "from tensorflow.keras.preprocessing.sequence import pad_sequences\n",
    "from tensorflow.keras.utils import to_categorical"
   ]
  },
  {
   "cell_type": "code",
   "execution_count": 22,
   "id": "bf65d625",
   "metadata": {},
   "outputs": [
    {
     "data": {
      "text/html": [
       "<div>\n",
       "<style scoped>\n",
       "    .dataframe tbody tr th:only-of-type {\n",
       "        vertical-align: middle;\n",
       "    }\n",
       "\n",
       "    .dataframe tbody tr th {\n",
       "        vertical-align: top;\n",
       "    }\n",
       "\n",
       "    .dataframe thead th {\n",
       "        text-align: right;\n",
       "    }\n",
       "</style>\n",
       "<table border=\"1\" class=\"dataframe\">\n",
       "  <thead>\n",
       "    <tr style=\"text-align: right;\">\n",
       "      <th></th>\n",
       "      <th>articleID</th>\n",
       "      <th>articleWordCount</th>\n",
       "      <th>byline</th>\n",
       "      <th>documentType</th>\n",
       "      <th>headline</th>\n",
       "      <th>keywords</th>\n",
       "      <th>multimedia</th>\n",
       "      <th>newDesk</th>\n",
       "      <th>printPage</th>\n",
       "      <th>pubDate</th>\n",
       "      <th>sectionName</th>\n",
       "      <th>snippet</th>\n",
       "      <th>source</th>\n",
       "      <th>typeOfMaterial</th>\n",
       "      <th>webURL</th>\n",
       "    </tr>\n",
       "  </thead>\n",
       "  <tbody>\n",
       "    <tr>\n",
       "      <th>0</th>\n",
       "      <td>5adf6684068401528a2aa69b</td>\n",
       "      <td>781</td>\n",
       "      <td>By JOHN BRANCH</td>\n",
       "      <td>article</td>\n",
       "      <td>Former N.F.L. Cheerleaders’ Settlement Offer: ...</td>\n",
       "      <td>['Workplace Hazards and Violations', 'Football...</td>\n",
       "      <td>68</td>\n",
       "      <td>Sports</td>\n",
       "      <td>0</td>\n",
       "      <td>2018-04-24 17:16:49</td>\n",
       "      <td>Pro Football</td>\n",
       "      <td>“I understand that they could meet with us, pa...</td>\n",
       "      <td>The New York Times</td>\n",
       "      <td>News</td>\n",
       "      <td>https://www.nytimes.com/2018/04/24/sports/foot...</td>\n",
       "    </tr>\n",
       "    <tr>\n",
       "      <th>1</th>\n",
       "      <td>5adf653f068401528a2aa697</td>\n",
       "      <td>656</td>\n",
       "      <td>By LISA FRIEDMAN</td>\n",
       "      <td>article</td>\n",
       "      <td>E.P.A. to Unveil a New Rule. Its Effect: Less ...</td>\n",
       "      <td>['Environmental Protection Agency', 'Pruitt, S...</td>\n",
       "      <td>68</td>\n",
       "      <td>Climate</td>\n",
       "      <td>0</td>\n",
       "      <td>2018-04-24 17:11:21</td>\n",
       "      <td>Unknown</td>\n",
       "      <td>The agency plans to publish a new regulation T...</td>\n",
       "      <td>The New York Times</td>\n",
       "      <td>News</td>\n",
       "      <td>https://www.nytimes.com/2018/04/24/climate/epa...</td>\n",
       "    </tr>\n",
       "    <tr>\n",
       "      <th>2</th>\n",
       "      <td>5adf4626068401528a2aa628</td>\n",
       "      <td>2427</td>\n",
       "      <td>By PETE WELLS</td>\n",
       "      <td>article</td>\n",
       "      <td>The New Noma, Explained</td>\n",
       "      <td>['Restaurants', 'Noma (Copenhagen, Restaurant)...</td>\n",
       "      <td>66</td>\n",
       "      <td>Dining</td>\n",
       "      <td>0</td>\n",
       "      <td>2018-04-24 14:58:44</td>\n",
       "      <td>Unknown</td>\n",
       "      <td>What’s it like to eat at the second incarnatio...</td>\n",
       "      <td>The New York Times</td>\n",
       "      <td>News</td>\n",
       "      <td>https://www.nytimes.com/2018/04/24/dining/noma...</td>\n",
       "    </tr>\n",
       "    <tr>\n",
       "      <th>3</th>\n",
       "      <td>5adf40d2068401528a2aa619</td>\n",
       "      <td>626</td>\n",
       "      <td>By JULIE HIRSCHFELD DAVIS and PETER BAKER</td>\n",
       "      <td>article</td>\n",
       "      <td>Unknown</td>\n",
       "      <td>['Macron, Emmanuel (1977- )', 'Trump, Donald J...</td>\n",
       "      <td>68</td>\n",
       "      <td>Washington</td>\n",
       "      <td>0</td>\n",
       "      <td>2018-04-24 14:35:57</td>\n",
       "      <td>Europe</td>\n",
       "      <td>President Trump welcomed President Emmanuel Ma...</td>\n",
       "      <td>The New York Times</td>\n",
       "      <td>News</td>\n",
       "      <td>https://www.nytimes.com/2018/04/24/world/europ...</td>\n",
       "    </tr>\n",
       "    <tr>\n",
       "      <th>4</th>\n",
       "      <td>5adf3d64068401528a2aa60f</td>\n",
       "      <td>815</td>\n",
       "      <td>By IAN AUSTEN and DAN BILEFSKY</td>\n",
       "      <td>article</td>\n",
       "      <td>Unknown</td>\n",
       "      <td>['Toronto, Ontario, Attack (April, 2018)', 'Mu...</td>\n",
       "      <td>68</td>\n",
       "      <td>Foreign</td>\n",
       "      <td>0</td>\n",
       "      <td>2018-04-24 14:21:21</td>\n",
       "      <td>Canada</td>\n",
       "      <td>Alek Minassian, 25, a resident of Toronto’s Ri...</td>\n",
       "      <td>The New York Times</td>\n",
       "      <td>News</td>\n",
       "      <td>https://www.nytimes.com/2018/04/24/world/canad...</td>\n",
       "    </tr>\n",
       "  </tbody>\n",
       "</table>\n",
       "</div>"
      ],
      "text/plain": [
       "                  articleID  articleWordCount  \\\n",
       "0  5adf6684068401528a2aa69b               781   \n",
       "1  5adf653f068401528a2aa697               656   \n",
       "2  5adf4626068401528a2aa628              2427   \n",
       "3  5adf40d2068401528a2aa619               626   \n",
       "4  5adf3d64068401528a2aa60f               815   \n",
       "\n",
       "                                      byline documentType  \\\n",
       "0                             By JOHN BRANCH      article   \n",
       "1                           By LISA FRIEDMAN      article   \n",
       "2                              By PETE WELLS      article   \n",
       "3  By JULIE HIRSCHFELD DAVIS and PETER BAKER      article   \n",
       "4             By IAN AUSTEN and DAN BILEFSKY      article   \n",
       "\n",
       "                                            headline  \\\n",
       "0  Former N.F.L. Cheerleaders’ Settlement Offer: ...   \n",
       "1  E.P.A. to Unveil a New Rule. Its Effect: Less ...   \n",
       "2                            The New Noma, Explained   \n",
       "3                                            Unknown   \n",
       "4                                            Unknown   \n",
       "\n",
       "                                            keywords  multimedia     newDesk  \\\n",
       "0  ['Workplace Hazards and Violations', 'Football...          68      Sports   \n",
       "1  ['Environmental Protection Agency', 'Pruitt, S...          68     Climate   \n",
       "2  ['Restaurants', 'Noma (Copenhagen, Restaurant)...          66      Dining   \n",
       "3  ['Macron, Emmanuel (1977- )', 'Trump, Donald J...          68  Washington   \n",
       "4  ['Toronto, Ontario, Attack (April, 2018)', 'Mu...          68     Foreign   \n",
       "\n",
       "   printPage              pubDate   sectionName  \\\n",
       "0          0  2018-04-24 17:16:49  Pro Football   \n",
       "1          0  2018-04-24 17:11:21       Unknown   \n",
       "2          0  2018-04-24 14:58:44       Unknown   \n",
       "3          0  2018-04-24 14:35:57        Europe   \n",
       "4          0  2018-04-24 14:21:21        Canada   \n",
       "\n",
       "                                             snippet              source  \\\n",
       "0  “I understand that they could meet with us, pa...  The New York Times   \n",
       "1  The agency plans to publish a new regulation T...  The New York Times   \n",
       "2  What’s it like to eat at the second incarnatio...  The New York Times   \n",
       "3  President Trump welcomed President Emmanuel Ma...  The New York Times   \n",
       "4  Alek Minassian, 25, a resident of Toronto’s Ri...  The New York Times   \n",
       "\n",
       "  typeOfMaterial                                             webURL  \n",
       "0           News  https://www.nytimes.com/2018/04/24/sports/foot...  \n",
       "1           News  https://www.nytimes.com/2018/04/24/climate/epa...  \n",
       "2           News  https://www.nytimes.com/2018/04/24/dining/noma...  \n",
       "3           News  https://www.nytimes.com/2018/04/24/world/europ...  \n",
       "4           News  https://www.nytimes.com/2018/04/24/world/canad...  "
      ]
     },
     "execution_count": 22,
     "metadata": {},
     "output_type": "execute_result"
    }
   ],
   "source": [
    "df = pd.read_csv('ArticlesApril2018.csv')\n",
    "df.head()"
   ]
  },
  {
   "cell_type": "code",
   "execution_count": 23,
   "id": "01cf6ae1",
   "metadata": {},
   "outputs": [
    {
     "name": "stdout",
     "output_type": "stream",
     "text": [
      "열의 개수:  15\n",
      "Index(['articleID', 'articleWordCount', 'byline', 'documentType', 'headline',\n",
      "       'keywords', 'multimedia', 'newDesk', 'printPage', 'pubDate',\n",
      "       'sectionName', 'snippet', 'source', 'typeOfMaterial', 'webURL'],\n",
      "      dtype='object')\n"
     ]
    }
   ],
   "source": [
    "print('열의 개수: ',len(df.columns))\n",
    "print(df.columns)"
   ]
  },
  {
   "cell_type": "code",
   "execution_count": 24,
   "id": "84a7a526",
   "metadata": {},
   "outputs": [
    {
     "name": "stdout",
     "output_type": "stream",
     "text": [
      "False\n"
     ]
    }
   ],
   "source": [
    "print(df['headline'].isnull().values.any())"
   ]
  },
  {
   "cell_type": "code",
   "execution_count": 25,
   "id": "9e6c5b22",
   "metadata": {},
   "outputs": [
    {
     "data": {
      "text/plain": [
       "['Former N.F.L. Cheerleaders’ Settlement Offer: $1 and a Meeting With Goodell',\n",
       " 'E.P.A. to Unveil a New Rule. Its Effect: Less Science in Policymaking.',\n",
       " 'The New Noma, Explained',\n",
       " 'Unknown',\n",
       " 'Unknown']"
      ]
     },
     "execution_count": 25,
     "metadata": {},
     "output_type": "execute_result"
    }
   ],
   "source": [
    "headline = []\n",
    "# 헤드라인의 값들을 리스트로 저장\n",
    "headline.extend(list(df.headline.values)) \n",
    "headline[:5]"
   ]
  },
  {
   "cell_type": "code",
   "execution_count": 26,
   "id": "7288e094",
   "metadata": {},
   "outputs": [
    {
     "name": "stdout",
     "output_type": "stream",
     "text": [
      "총 샘플의 개수 : 1324\n"
     ]
    }
   ],
   "source": [
    "print('총 샘플의 개수 : {}'.format(len(headline)))"
   ]
  },
  {
   "cell_type": "code",
   "execution_count": 27,
   "id": "c798c5b3",
   "metadata": {},
   "outputs": [
    {
     "name": "stdout",
     "output_type": "stream",
     "text": [
      "노이즈값 제거 후 샘플의 개수 : 1214\n"
     ]
    }
   ],
   "source": [
    "headline = [word for word in headline if word != \"Unknown\"]\n",
    "print('노이즈값 제거 후 샘플의 개수 : {}'.format(len(headline)))"
   ]
  },
  {
   "cell_type": "code",
   "execution_count": 28,
   "id": "f4918b18",
   "metadata": {},
   "outputs": [
    {
     "data": {
      "text/plain": [
       "['Former N.F.L. Cheerleaders’ Settlement Offer: $1 and a Meeting With Goodell',\n",
       " 'E.P.A. to Unveil a New Rule. Its Effect: Less Science in Policymaking.',\n",
       " 'The New Noma, Explained',\n",
       " 'How a Bag of Texas Dirt  Became a Times Tradition',\n",
       " 'Is School a Place for Self-Expression?']"
      ]
     },
     "execution_count": 28,
     "metadata": {},
     "output_type": "execute_result"
    }
   ],
   "source": [
    "headline[:5]"
   ]
  },
  {
   "cell_type": "code",
   "execution_count": 29,
   "id": "25bafcc5",
   "metadata": {},
   "outputs": [
    {
     "data": {
      "text/plain": [
       "['former nfl cheerleaders settlement offer 1 and a meeting with goodell',\n",
       " 'epa to unveil a new rule its effect less science in policymaking',\n",
       " 'the new noma explained',\n",
       " 'how a bag of texas dirt  became a times tradition',\n",
       " 'is school a place for selfexpression']"
      ]
     },
     "execution_count": 29,
     "metadata": {},
     "output_type": "execute_result"
    }
   ],
   "source": [
    "def repreprocessing(raw_sentence):\n",
    "    preproceseed_sentence = raw_sentence.encode(\"utf8\").decode(\"ascii\",'ignore')\n",
    "    # 구두점 제거와 동시에 소문자화\n",
    "    return ''.join(word for word in preproceseed_sentence if word not in punctuation).lower()\n",
    "\n",
    "preprocessed_headline = [repreprocessing(x) for x in headline]\n",
    "preprocessed_headline[:5]"
   ]
  },
  {
   "cell_type": "code",
   "execution_count": 30,
   "id": "6e4f60bd",
   "metadata": {},
   "outputs": [
    {
     "name": "stdout",
     "output_type": "stream",
     "text": [
      "단어 집합의 크기 : 3494\n"
     ]
    }
   ],
   "source": [
    "tokenizer = Tokenizer()\n",
    "tokenizer.fit_on_texts(preprocessed_headline)\n",
    "vocab_size = len(tokenizer.word_index) + 1\n",
    "print('단어 집합의 크기 : %d' % vocab_size)"
   ]
  },
  {
   "cell_type": "code",
   "execution_count": 31,
   "id": "b47a2ddd",
   "metadata": {},
   "outputs": [
    {
     "data": {
      "text/plain": [
       "[[99, 269],\n",
       " [99, 269, 371],\n",
       " [99, 269, 371, 1115],\n",
       " [99, 269, 371, 1115, 582],\n",
       " [99, 269, 371, 1115, 582, 52],\n",
       " [99, 269, 371, 1115, 582, 52, 7],\n",
       " [99, 269, 371, 1115, 582, 52, 7, 2],\n",
       " [99, 269, 371, 1115, 582, 52, 7, 2, 372],\n",
       " [99, 269, 371, 1115, 582, 52, 7, 2, 372, 10],\n",
       " [99, 269, 371, 1115, 582, 52, 7, 2, 372, 10, 1116],\n",
       " [100, 3]]"
      ]
     },
     "execution_count": 31,
     "metadata": {},
     "output_type": "execute_result"
    }
   ],
   "source": [
    "sequences = list()\n",
    "\n",
    "for sentence in preprocessed_headline:\n",
    "\n",
    "    # 각 샘플에 대한 정수 인코딩\n",
    "    encoded = tokenizer.texts_to_sequences([sentence])[0] \n",
    "    for i in range(1, len(encoded)):\n",
    "        sequence = encoded[:i+1]\n",
    "        sequences.append(sequence)\n",
    "\n",
    "sequences[:11]"
   ]
  },
  {
   "cell_type": "code",
   "execution_count": 32,
   "id": "a6f148d7",
   "metadata": {},
   "outputs": [
    {
     "name": "stdout",
     "output_type": "stream",
     "text": [
      "빈도수 상위 582번 단어 : offer\n"
     ]
    }
   ],
   "source": [
    "index_to_word = {}\n",
    "for key, value in tokenizer.word_index.items(): # 인덱스를 단어로 바꾸기 위해 index_to_word를 생성\n",
    "    index_to_word[value] = key\n",
    "\n",
    "print('빈도수 상위 582번 단어 : {}'.format(index_to_word[582]))"
   ]
  },
  {
   "cell_type": "code",
   "execution_count": 33,
   "id": "03ffc3e0",
   "metadata": {},
   "outputs": [
    {
     "name": "stdout",
     "output_type": "stream",
     "text": [
      "샘플의 최대 길이 : 24\n"
     ]
    }
   ],
   "source": [
    "max_len = max(len(l) for l in sequences)\n",
    "print('샘플의 최대 길이 : {}'.format(max_len))"
   ]
  },
  {
   "cell_type": "code",
   "execution_count": 34,
   "id": "4e90768c",
   "metadata": {},
   "outputs": [
    {
     "name": "stdout",
     "output_type": "stream",
     "text": [
      "[[   0    0    0    0    0    0    0    0    0    0    0    0    0    0\n",
      "     0    0    0    0    0    0    0    0   99  269]\n",
      " [   0    0    0    0    0    0    0    0    0    0    0    0    0    0\n",
      "     0    0    0    0    0    0    0   99  269  371]\n",
      " [   0    0    0    0    0    0    0    0    0    0    0    0    0    0\n",
      "     0    0    0    0    0    0   99  269  371 1115]]\n"
     ]
    }
   ],
   "source": [
    "sequences = pad_sequences(sequences, maxlen=max_len, padding='pre')\n",
    "print(sequences[:3])"
   ]
  },
  {
   "cell_type": "code",
   "execution_count": 35,
   "id": "de75f994",
   "metadata": {},
   "outputs": [],
   "source": [
    "sequences = np.array(sequences)\n",
    "X = sequences[:,:-1]\n",
    "y = sequences[:,-1]"
   ]
  },
  {
   "cell_type": "code",
   "execution_count": 36,
   "id": "8026c4d5",
   "metadata": {},
   "outputs": [
    {
     "name": "stdout",
     "output_type": "stream",
     "text": [
      "[[  0   0   0   0   0   0   0   0   0   0   0   0   0   0   0   0   0   0\n",
      "    0   0   0   0  99]\n",
      " [  0   0   0   0   0   0   0   0   0   0   0   0   0   0   0   0   0   0\n",
      "    0   0   0  99 269]\n",
      " [  0   0   0   0   0   0   0   0   0   0   0   0   0   0   0   0   0   0\n",
      "    0   0  99 269 371]]\n"
     ]
    }
   ],
   "source": [
    "print(X[:3])"
   ]
  },
  {
   "cell_type": "code",
   "execution_count": 37,
   "id": "8ebaf7cb",
   "metadata": {},
   "outputs": [
    {
     "name": "stdout",
     "output_type": "stream",
     "text": [
      "[ 269  371 1115]\n"
     ]
    }
   ],
   "source": [
    "print(y[:3])"
   ]
  },
  {
   "cell_type": "code",
   "execution_count": 38,
   "id": "664b52c5",
   "metadata": {},
   "outputs": [],
   "source": [
    "y = to_categorical(y, num_classes=vocab_size)"
   ]
  },
  {
   "cell_type": "code",
   "execution_count": 39,
   "id": "61a5c69e",
   "metadata": {},
   "outputs": [],
   "source": [
    "from tensorflow.keras.models import Sequential\n",
    "from tensorflow.keras.layers import Embedding, Dense, LSTM"
   ]
  },
  {
   "cell_type": "code",
   "execution_count": 40,
   "id": "dee9c996",
   "metadata": {},
   "outputs": [
    {
     "name": "stdout",
     "output_type": "stream",
     "text": [
      "Epoch 1/200\n",
      "244/244 - 5s - loss: 7.6404 - accuracy: 0.0314 - 5s/epoch - 20ms/step\n",
      "Epoch 2/200\n",
      "244/244 - 3s - loss: 7.1164 - accuracy: 0.0301 - 3s/epoch - 11ms/step\n",
      "Epoch 3/200\n",
      "244/244 - 3s - loss: 6.9802 - accuracy: 0.0345 - 3s/epoch - 14ms/step\n",
      "Epoch 4/200\n",
      "244/244 - 3s - loss: 6.8486 - accuracy: 0.0401 - 3s/epoch - 12ms/step\n",
      "Epoch 5/200\n",
      "244/244 - 3s - loss: 6.6927 - accuracy: 0.0465 - 3s/epoch - 12ms/step\n",
      "Epoch 6/200\n",
      "244/244 - 3s - loss: 6.5209 - accuracy: 0.0461 - 3s/epoch - 11ms/step\n",
      "Epoch 7/200\n",
      "244/244 - 3s - loss: 6.3335 - accuracy: 0.0529 - 3s/epoch - 12ms/step\n",
      "Epoch 8/200\n",
      "244/244 - 3s - loss: 6.1347 - accuracy: 0.0572 - 3s/epoch - 14ms/step\n",
      "Epoch 9/200\n",
      "244/244 - 3s - loss: 5.9353 - accuracy: 0.0629 - 3s/epoch - 11ms/step\n",
      "Epoch 10/200\n",
      "244/244 - 3s - loss: 5.7474 - accuracy: 0.0642 - 3s/epoch - 12ms/step\n",
      "Epoch 11/200\n",
      "244/244 - 3s - loss: 5.5689 - accuracy: 0.0697 - 3s/epoch - 11ms/step\n",
      "Epoch 12/200\n",
      "244/244 - 3s - loss: 5.4007 - accuracy: 0.0756 - 3s/epoch - 10ms/step\n",
      "Epoch 13/200\n",
      "244/244 - 2s - loss: 5.2432 - accuracy: 0.0806 - 2s/epoch - 10ms/step\n",
      "Epoch 14/200\n",
      "244/244 - 2s - loss: 5.0908 - accuracy: 0.0901 - 2s/epoch - 10ms/step\n",
      "Epoch 15/200\n",
      "244/244 - 2s - loss: 4.9428 - accuracy: 0.1010 - 2s/epoch - 10ms/step\n",
      "Epoch 16/200\n",
      "244/244 - 2s - loss: 4.8027 - accuracy: 0.1064 - 2s/epoch - 10ms/step\n",
      "Epoch 17/200\n",
      "244/244 - 2s - loss: 4.6671 - accuracy: 0.1203 - 2s/epoch - 10ms/step\n",
      "Epoch 18/200\n",
      "244/244 - 2s - loss: 4.5362 - accuracy: 0.1349 - 2s/epoch - 10ms/step\n",
      "Epoch 19/200\n",
      "244/244 - 2s - loss: 4.4082 - accuracy: 0.1537 - 2s/epoch - 10ms/step\n",
      "Epoch 20/200\n",
      "244/244 - 2s - loss: 4.2855 - accuracy: 0.1706 - 2s/epoch - 10ms/step\n",
      "Epoch 21/200\n",
      "244/244 - 2s - loss: 4.1680 - accuracy: 0.1920 - 2s/epoch - 10ms/step\n",
      "Epoch 22/200\n",
      "244/244 - 2s - loss: 4.0519 - accuracy: 0.2048 - 2s/epoch - 10ms/step\n",
      "Epoch 23/200\n",
      "244/244 - 2s - loss: 3.9424 - accuracy: 0.2226 - 2s/epoch - 10ms/step\n",
      "Epoch 24/200\n",
      "244/244 - 2s - loss: 3.8313 - accuracy: 0.2438 - 2s/epoch - 10ms/step\n",
      "Epoch 25/200\n",
      "244/244 - 2s - loss: 3.7277 - accuracy: 0.2593 - 2s/epoch - 10ms/step\n",
      "Epoch 26/200\n",
      "244/244 - 2s - loss: 3.6271 - accuracy: 0.2763 - 2s/epoch - 10ms/step\n",
      "Epoch 27/200\n",
      "244/244 - 2s - loss: 3.5290 - accuracy: 0.2946 - 2s/epoch - 10ms/step\n",
      "Epoch 28/200\n",
      "244/244 - 2s - loss: 3.4317 - accuracy: 0.3105 - 2s/epoch - 10ms/step\n",
      "Epoch 29/200\n",
      "244/244 - 2s - loss: 3.3394 - accuracy: 0.3306 - 2s/epoch - 10ms/step\n",
      "Epoch 30/200\n",
      "244/244 - 2s - loss: 3.2493 - accuracy: 0.3445 - 2s/epoch - 10ms/step\n",
      "Epoch 31/200\n",
      "244/244 - 2s - loss: 3.1667 - accuracy: 0.3629 - 2s/epoch - 10ms/step\n",
      "Epoch 32/200\n",
      "244/244 - 2s - loss: 3.0794 - accuracy: 0.3769 - 2s/epoch - 10ms/step\n",
      "Epoch 33/200\n",
      "244/244 - 2s - loss: 2.9965 - accuracy: 0.3929 - 2s/epoch - 10ms/step\n",
      "Epoch 34/200\n",
      "244/244 - 2s - loss: 2.9182 - accuracy: 0.4101 - 2s/epoch - 10ms/step\n",
      "Epoch 35/200\n",
      "244/244 - 2s - loss: 2.8413 - accuracy: 0.4205 - 2s/epoch - 10ms/step\n",
      "Epoch 36/200\n",
      "244/244 - 2s - loss: 2.7683 - accuracy: 0.4410 - 2s/epoch - 10ms/step\n",
      "Epoch 37/200\n",
      "244/244 - 2s - loss: 2.6977 - accuracy: 0.4510 - 2s/epoch - 10ms/step\n",
      "Epoch 38/200\n",
      "244/244 - 2s - loss: 2.6265 - accuracy: 0.4633 - 2s/epoch - 10ms/step\n",
      "Epoch 39/200\n",
      "244/244 - 2s - loss: 2.5594 - accuracy: 0.4792 - 2s/epoch - 10ms/step\n",
      "Epoch 40/200\n",
      "244/244 - 2s - loss: 2.4902 - accuracy: 0.4908 - 2s/epoch - 10ms/step\n",
      "Epoch 41/200\n",
      "244/244 - 2s - loss: 2.4293 - accuracy: 0.5024 - 2s/epoch - 10ms/step\n",
      "Epoch 42/200\n",
      "244/244 - 2s - loss: 2.3659 - accuracy: 0.5139 - 2s/epoch - 10ms/step\n",
      "Epoch 43/200\n",
      "244/244 - 2s - loss: 2.3059 - accuracy: 0.5286 - 2s/epoch - 10ms/step\n",
      "Epoch 44/200\n",
      "244/244 - 2s - loss: 2.2465 - accuracy: 0.5408 - 2s/epoch - 10ms/step\n",
      "Epoch 45/200\n",
      "244/244 - 2s - loss: 2.1898 - accuracy: 0.5545 - 2s/epoch - 10ms/step\n",
      "Epoch 46/200\n",
      "244/244 - 2s - loss: 2.1366 - accuracy: 0.5607 - 2s/epoch - 10ms/step\n",
      "Epoch 47/200\n",
      "244/244 - 2s - loss: 2.0833 - accuracy: 0.5753 - 2s/epoch - 10ms/step\n",
      "Epoch 48/200\n",
      "244/244 - 2s - loss: 2.0304 - accuracy: 0.5834 - 2s/epoch - 10ms/step\n",
      "Epoch 49/200\n",
      "244/244 - 3s - loss: 1.9757 - accuracy: 0.5964 - 3s/epoch - 10ms/step\n",
      "Epoch 50/200\n",
      "244/244 - 3s - loss: 1.9279 - accuracy: 0.6090 - 3s/epoch - 10ms/step\n",
      "Epoch 51/200\n",
      "244/244 - 3s - loss: 1.8811 - accuracy: 0.6200 - 3s/epoch - 10ms/step\n",
      "Epoch 52/200\n",
      "244/244 - 2s - loss: 1.8349 - accuracy: 0.6309 - 2s/epoch - 10ms/step\n",
      "Epoch 53/200\n",
      "244/244 - 2s - loss: 1.7869 - accuracy: 0.6396 - 2s/epoch - 10ms/step\n",
      "Epoch 54/200\n",
      "244/244 - 3s - loss: 1.7439 - accuracy: 0.6476 - 3s/epoch - 10ms/step\n",
      "Epoch 55/200\n",
      "244/244 - 3s - loss: 1.6974 - accuracy: 0.6587 - 3s/epoch - 10ms/step\n",
      "Epoch 56/200\n",
      "244/244 - 3s - loss: 1.6563 - accuracy: 0.6706 - 3s/epoch - 10ms/step\n",
      "Epoch 57/200\n",
      "244/244 - 3s - loss: 1.6169 - accuracy: 0.6767 - 3s/epoch - 10ms/step\n",
      "Epoch 58/200\n",
      "244/244 - 3s - loss: 1.5747 - accuracy: 0.6835 - 3s/epoch - 10ms/step\n",
      "Epoch 59/200\n",
      "244/244 - 3s - loss: 1.5367 - accuracy: 0.6959 - 3s/epoch - 10ms/step\n",
      "Epoch 60/200\n",
      "244/244 - 3s - loss: 1.4982 - accuracy: 0.7009 - 3s/epoch - 10ms/step\n",
      "Epoch 61/200\n",
      "244/244 - 3s - loss: 1.4575 - accuracy: 0.7128 - 3s/epoch - 10ms/step\n",
      "Epoch 62/200\n",
      "244/244 - 3s - loss: 1.4228 - accuracy: 0.7173 - 3s/epoch - 11ms/step\n",
      "Epoch 63/200\n",
      "244/244 - 3s - loss: 1.3886 - accuracy: 0.7219 - 3s/epoch - 10ms/step\n",
      "Epoch 64/200\n",
      "244/244 - 3s - loss: 1.3545 - accuracy: 0.7316 - 3s/epoch - 10ms/step\n",
      "Epoch 65/200\n",
      "244/244 - 3s - loss: 1.3205 - accuracy: 0.7404 - 3s/epoch - 10ms/step\n",
      "Epoch 66/200\n",
      "244/244 - 3s - loss: 1.2872 - accuracy: 0.7452 - 3s/epoch - 11ms/step\n",
      "Epoch 67/200\n",
      "244/244 - 3s - loss: 1.2555 - accuracy: 0.7514 - 3s/epoch - 10ms/step\n",
      "Epoch 68/200\n",
      "244/244 - 3s - loss: 1.2293 - accuracy: 0.7555 - 3s/epoch - 10ms/step\n",
      "Epoch 69/200\n",
      "244/244 - 3s - loss: 1.1966 - accuracy: 0.7637 - 3s/epoch - 10ms/step\n",
      "Epoch 70/200\n",
      "244/244 - 3s - loss: 1.1640 - accuracy: 0.7710 - 3s/epoch - 10ms/step\n",
      "Epoch 71/200\n",
      "244/244 - 3s - loss: 1.1372 - accuracy: 0.7782 - 3s/epoch - 10ms/step\n",
      "Epoch 72/200\n",
      "244/244 - 3s - loss: 1.1103 - accuracy: 0.7821 - 3s/epoch - 10ms/step\n",
      "Epoch 73/200\n",
      "244/244 - 3s - loss: 1.0827 - accuracy: 0.7869 - 3s/epoch - 10ms/step\n",
      "Epoch 74/200\n",
      "244/244 - 3s - loss: 1.0574 - accuracy: 0.7941 - 3s/epoch - 10ms/step\n",
      "Epoch 75/200\n",
      "244/244 - 3s - loss: 1.0320 - accuracy: 0.7976 - 3s/epoch - 10ms/step\n",
      "Epoch 76/200\n",
      "244/244 - 3s - loss: 1.0099 - accuracy: 0.8011 - 3s/epoch - 10ms/step\n",
      "Epoch 77/200\n",
      "244/244 - 3s - loss: 0.9838 - accuracy: 0.8067 - 3s/epoch - 10ms/step\n",
      "Epoch 78/200\n",
      "244/244 - 3s - loss: 0.9590 - accuracy: 0.8148 - 3s/epoch - 10ms/step\n",
      "Epoch 79/200\n",
      "244/244 - 3s - loss: 0.9392 - accuracy: 0.8162 - 3s/epoch - 10ms/step\n",
      "Epoch 80/200\n",
      "244/244 - 3s - loss: 0.9163 - accuracy: 0.8226 - 3s/epoch - 10ms/step\n",
      "Epoch 81/200\n",
      "244/244 - 3s - loss: 0.8940 - accuracy: 0.8243 - 3s/epoch - 10ms/step\n",
      "Epoch 82/200\n",
      "244/244 - 3s - loss: 0.8748 - accuracy: 0.8276 - 3s/epoch - 10ms/step\n",
      "Epoch 83/200\n",
      "244/244 - 3s - loss: 0.8526 - accuracy: 0.8340 - 3s/epoch - 10ms/step\n",
      "Epoch 84/200\n",
      "244/244 - 3s - loss: 0.8348 - accuracy: 0.8354 - 3s/epoch - 11ms/step\n",
      "Epoch 85/200\n",
      "244/244 - 3s - loss: 0.8141 - accuracy: 0.8379 - 3s/epoch - 10ms/step\n",
      "Epoch 86/200\n",
      "244/244 - 3s - loss: 0.7969 - accuracy: 0.8431 - 3s/epoch - 10ms/step\n",
      "Epoch 87/200\n",
      "244/244 - 3s - loss: 0.7782 - accuracy: 0.8469 - 3s/epoch - 10ms/step\n",
      "Epoch 88/200\n",
      "244/244 - 3s - loss: 0.7607 - accuracy: 0.8495 - 3s/epoch - 10ms/step\n",
      "Epoch 89/200\n",
      "244/244 - 3s - loss: 0.7433 - accuracy: 0.8503 - 3s/epoch - 10ms/step\n",
      "Epoch 90/200\n",
      "244/244 - 3s - loss: 0.7317 - accuracy: 0.8540 - 3s/epoch - 10ms/step\n",
      "Epoch 91/200\n",
      "244/244 - 3s - loss: 0.7148 - accuracy: 0.8572 - 3s/epoch - 10ms/step\n",
      "Epoch 92/200\n",
      "244/244 - 3s - loss: 0.6980 - accuracy: 0.8620 - 3s/epoch - 10ms/step\n",
      "Epoch 93/200\n",
      "244/244 - 3s - loss: 0.6824 - accuracy: 0.8618 - 3s/epoch - 10ms/step\n",
      "Epoch 94/200\n",
      "244/244 - 3s - loss: 0.6657 - accuracy: 0.8670 - 3s/epoch - 10ms/step\n",
      "Epoch 95/200\n",
      "244/244 - 3s - loss: 0.6542 - accuracy: 0.8679 - 3s/epoch - 10ms/step\n",
      "Epoch 96/200\n",
      "244/244 - 3s - loss: 0.6384 - accuracy: 0.8725 - 3s/epoch - 10ms/step\n",
      "Epoch 97/200\n",
      "244/244 - 3s - loss: 0.6272 - accuracy: 0.8726 - 3s/epoch - 10ms/step\n",
      "Epoch 98/200\n",
      "244/244 - 3s - loss: 0.6139 - accuracy: 0.8744 - 3s/epoch - 10ms/step\n",
      "Epoch 99/200\n",
      "244/244 - 2s - loss: 0.5985 - accuracy: 0.8804 - 2s/epoch - 10ms/step\n"
     ]
    },
    {
     "name": "stdout",
     "output_type": "stream",
     "text": [
      "Epoch 100/200\n",
      "244/244 - 2s - loss: 0.5864 - accuracy: 0.8808 - 2s/epoch - 10ms/step\n",
      "Epoch 101/200\n",
      "244/244 - 3s - loss: 0.5747 - accuracy: 0.8822 - 3s/epoch - 12ms/step\n",
      "Epoch 102/200\n",
      "244/244 - 3s - loss: 0.5692 - accuracy: 0.8848 - 3s/epoch - 11ms/step\n",
      "Epoch 103/200\n",
      "244/244 - 3s - loss: 0.5576 - accuracy: 0.8874 - 3s/epoch - 11ms/step\n",
      "Epoch 104/200\n",
      "244/244 - 3s - loss: 0.5418 - accuracy: 0.8884 - 3s/epoch - 14ms/step\n",
      "Epoch 105/200\n",
      "244/244 - 3s - loss: 0.5291 - accuracy: 0.8916 - 3s/epoch - 11ms/step\n",
      "Epoch 106/200\n",
      "244/244 - 3s - loss: 0.5191 - accuracy: 0.8926 - 3s/epoch - 12ms/step\n",
      "Epoch 107/200\n",
      "244/244 - 3s - loss: 0.5174 - accuracy: 0.8943 - 3s/epoch - 12ms/step\n",
      "Epoch 108/200\n",
      "244/244 - 4s - loss: 0.5030 - accuracy: 0.8979 - 4s/epoch - 15ms/step\n",
      "Epoch 109/200\n",
      "244/244 - 3s - loss: 0.4926 - accuracy: 0.8973 - 3s/epoch - 13ms/step\n",
      "Epoch 110/200\n",
      "244/244 - 3s - loss: 0.4843 - accuracy: 0.8981 - 3s/epoch - 11ms/step\n",
      "Epoch 111/200\n",
      "244/244 - 3s - loss: 0.4752 - accuracy: 0.9006 - 3s/epoch - 12ms/step\n",
      "Epoch 112/200\n",
      "244/244 - 3s - loss: 0.4666 - accuracy: 0.9012 - 3s/epoch - 13ms/step\n",
      "Epoch 113/200\n",
      "244/244 - 3s - loss: 0.4583 - accuracy: 0.9049 - 3s/epoch - 11ms/step\n",
      "Epoch 114/200\n",
      "244/244 - 4s - loss: 0.4493 - accuracy: 0.9059 - 4s/epoch - 14ms/step\n",
      "Epoch 115/200\n",
      "244/244 - 4s - loss: 0.4426 - accuracy: 0.9044 - 4s/epoch - 16ms/step\n",
      "Epoch 116/200\n",
      "244/244 - 3s - loss: 0.4378 - accuracy: 0.9040 - 3s/epoch - 14ms/step\n",
      "Epoch 117/200\n",
      "244/244 - 3s - loss: 0.4376 - accuracy: 0.9070 - 3s/epoch - 11ms/step\n",
      "Epoch 118/200\n",
      "244/244 - 3s - loss: 0.4267 - accuracy: 0.9093 - 3s/epoch - 11ms/step\n",
      "Epoch 119/200\n",
      "244/244 - 3s - loss: 0.4149 - accuracy: 0.9093 - 3s/epoch - 12ms/step\n",
      "Epoch 120/200\n",
      "244/244 - 3s - loss: 0.4115 - accuracy: 0.9084 - 3s/epoch - 12ms/step\n",
      "Epoch 121/200\n",
      "244/244 - 3s - loss: 0.4024 - accuracy: 0.9107 - 3s/epoch - 11ms/step\n",
      "Epoch 122/200\n",
      "244/244 - 3s - loss: 0.3968 - accuracy: 0.9121 - 3s/epoch - 12ms/step\n",
      "Epoch 123/200\n",
      "244/244 - 3s - loss: 0.3914 - accuracy: 0.9117 - 3s/epoch - 14ms/step\n",
      "Epoch 124/200\n",
      "244/244 - 3s - loss: 0.3845 - accuracy: 0.9134 - 3s/epoch - 14ms/step\n",
      "Epoch 125/200\n",
      "244/244 - 3s - loss: 0.3773 - accuracy: 0.9121 - 3s/epoch - 12ms/step\n",
      "Epoch 126/200\n",
      "244/244 - 3s - loss: 0.3735 - accuracy: 0.9122 - 3s/epoch - 12ms/step\n",
      "Epoch 127/200\n",
      "244/244 - 3s - loss: 0.3702 - accuracy: 0.9135 - 3s/epoch - 11ms/step\n",
      "Epoch 128/200\n",
      "244/244 - 3s - loss: 0.3644 - accuracy: 0.9138 - 3s/epoch - 12ms/step\n",
      "Epoch 129/200\n",
      "244/244 - 3s - loss: 0.3598 - accuracy: 0.9132 - 3s/epoch - 12ms/step\n",
      "Epoch 130/200\n",
      "244/244 - 3s - loss: 0.3563 - accuracy: 0.9140 - 3s/epoch - 12ms/step\n",
      "Epoch 131/200\n",
      "244/244 - 3s - loss: 0.3519 - accuracy: 0.9148 - 3s/epoch - 11ms/step\n",
      "Epoch 132/200\n",
      "244/244 - 3s - loss: 0.3512 - accuracy: 0.9144 - 3s/epoch - 13ms/step\n",
      "Epoch 133/200\n",
      "244/244 - 3s - loss: 0.3449 - accuracy: 0.9148 - 3s/epoch - 14ms/step\n",
      "Epoch 134/200\n",
      "244/244 - 3s - loss: 0.3407 - accuracy: 0.9139 - 3s/epoch - 12ms/step\n",
      "Epoch 135/200\n",
      "244/244 - 3s - loss: 0.3366 - accuracy: 0.9161 - 3s/epoch - 13ms/step\n",
      "Epoch 136/200\n",
      "244/244 - 3s - loss: 0.3369 - accuracy: 0.9153 - 3s/epoch - 12ms/step\n",
      "Epoch 137/200\n",
      "244/244 - 3s - loss: 0.3835 - accuracy: 0.9067 - 3s/epoch - 12ms/step\n",
      "Epoch 138/200\n",
      "244/244 - 3s - loss: 0.3585 - accuracy: 0.9117 - 3s/epoch - 11ms/step\n",
      "Epoch 139/200\n",
      "244/244 - 3s - loss: 0.3276 - accuracy: 0.9163 - 3s/epoch - 11ms/step\n",
      "Epoch 140/200\n",
      "244/244 - 3s - loss: 0.3207 - accuracy: 0.9153 - 3s/epoch - 11ms/step\n",
      "Epoch 141/200\n",
      "244/244 - 3s - loss: 0.3173 - accuracy: 0.9166 - 3s/epoch - 11ms/step\n",
      "Epoch 142/200\n",
      "244/244 - 3s - loss: 0.3142 - accuracy: 0.9170 - 3s/epoch - 11ms/step\n",
      "Epoch 143/200\n",
      "244/244 - 3s - loss: 0.3133 - accuracy: 0.9152 - 3s/epoch - 11ms/step\n",
      "Epoch 144/200\n",
      "244/244 - 3s - loss: 0.3106 - accuracy: 0.9163 - 3s/epoch - 11ms/step\n",
      "Epoch 145/200\n",
      "244/244 - 3s - loss: 0.3096 - accuracy: 0.9145 - 3s/epoch - 11ms/step\n",
      "Epoch 146/200\n",
      "244/244 - 3s - loss: 0.3072 - accuracy: 0.9157 - 3s/epoch - 12ms/step\n",
      "Epoch 147/200\n",
      "244/244 - 3s - loss: 0.3044 - accuracy: 0.9173 - 3s/epoch - 13ms/step\n",
      "Epoch 148/200\n",
      "244/244 - 3s - loss: 0.3036 - accuracy: 0.9175 - 3s/epoch - 12ms/step\n",
      "Epoch 149/200\n",
      "244/244 - 3s - loss: 0.3023 - accuracy: 0.9163 - 3s/epoch - 11ms/step\n",
      "Epoch 150/200\n",
      "244/244 - 3s - loss: 0.3009 - accuracy: 0.9162 - 3s/epoch - 11ms/step\n",
      "Epoch 151/200\n",
      "244/244 - 3s - loss: 0.3005 - accuracy: 0.9145 - 3s/epoch - 11ms/step\n",
      "Epoch 152/200\n",
      "244/244 - 3s - loss: 0.2989 - accuracy: 0.9152 - 3s/epoch - 11ms/step\n",
      "Epoch 153/200\n",
      "244/244 - 3s - loss: 0.2951 - accuracy: 0.9172 - 3s/epoch - 11ms/step\n",
      "Epoch 154/200\n",
      "244/244 - 3s - loss: 0.2951 - accuracy: 0.9168 - 3s/epoch - 11ms/step\n",
      "Epoch 155/200\n",
      "244/244 - 3s - loss: 0.2918 - accuracy: 0.9172 - 3s/epoch - 11ms/step\n",
      "Epoch 156/200\n",
      "244/244 - 3s - loss: 0.2907 - accuracy: 0.9149 - 3s/epoch - 11ms/step\n",
      "Epoch 157/200\n",
      "244/244 - 3s - loss: 0.2912 - accuracy: 0.9152 - 3s/epoch - 11ms/step\n",
      "Epoch 158/200\n",
      "244/244 - 3s - loss: 0.2894 - accuracy: 0.9182 - 3s/epoch - 11ms/step\n",
      "Epoch 159/200\n",
      "244/244 - 3s - loss: 0.2877 - accuracy: 0.9164 - 3s/epoch - 12ms/step\n",
      "Epoch 160/200\n",
      "244/244 - 3s - loss: 0.2876 - accuracy: 0.9168 - 3s/epoch - 12ms/step\n",
      "Epoch 161/200\n",
      "244/244 - 3s - loss: 0.2862 - accuracy: 0.9161 - 3s/epoch - 12ms/step\n",
      "Epoch 162/200\n",
      "244/244 - 3s - loss: 0.2830 - accuracy: 0.9166 - 3s/epoch - 13ms/step\n",
      "Epoch 163/200\n",
      "244/244 - 3s - loss: 0.2822 - accuracy: 0.9164 - 3s/epoch - 11ms/step\n",
      "Epoch 164/200\n",
      "244/244 - 3s - loss: 0.2805 - accuracy: 0.9153 - 3s/epoch - 12ms/step\n",
      "Epoch 165/200\n",
      "244/244 - 3s - loss: 0.2801 - accuracy: 0.9166 - 3s/epoch - 12ms/step\n",
      "Epoch 166/200\n",
      "244/244 - 3s - loss: 0.2791 - accuracy: 0.9175 - 3s/epoch - 11ms/step\n",
      "Epoch 167/200\n",
      "244/244 - 3s - loss: 0.2777 - accuracy: 0.9170 - 3s/epoch - 11ms/step\n",
      "Epoch 168/200\n",
      "244/244 - 3s - loss: 0.2777 - accuracy: 0.9162 - 3s/epoch - 11ms/step\n",
      "Epoch 169/200\n",
      "244/244 - 3s - loss: 0.2760 - accuracy: 0.9172 - 3s/epoch - 10ms/step\n",
      "Epoch 170/200\n",
      "244/244 - 3s - loss: 0.2783 - accuracy: 0.9161 - 3s/epoch - 12ms/step\n",
      "Epoch 171/200\n",
      "244/244 - 3s - loss: 0.3078 - accuracy: 0.9098 - 3s/epoch - 11ms/step\n",
      "Epoch 172/200\n",
      "244/244 - 3s - loss: 0.3014 - accuracy: 0.9122 - 3s/epoch - 11ms/step\n",
      "Epoch 173/200\n",
      "244/244 - 3s - loss: 0.2776 - accuracy: 0.9158 - 3s/epoch - 11ms/step\n",
      "Epoch 174/200\n",
      "244/244 - 3s - loss: 0.2738 - accuracy: 0.9173 - 3s/epoch - 11ms/step\n",
      "Epoch 175/200\n",
      "244/244 - 3s - loss: 0.2716 - accuracy: 0.9172 - 3s/epoch - 10ms/step\n",
      "Epoch 176/200\n",
      "244/244 - 3s - loss: 0.2714 - accuracy: 0.9171 - 3s/epoch - 11ms/step\n",
      "Epoch 177/200\n",
      "244/244 - 3s - loss: 0.2701 - accuracy: 0.9154 - 3s/epoch - 10ms/step\n",
      "Epoch 178/200\n",
      "244/244 - 3s - loss: 0.2702 - accuracy: 0.9153 - 3s/epoch - 10ms/step\n",
      "Epoch 179/200\n",
      "244/244 - 2s - loss: 0.2693 - accuracy: 0.9159 - 2s/epoch - 10ms/step\n",
      "Epoch 180/200\n",
      "244/244 - 2s - loss: 0.2701 - accuracy: 0.9153 - 2s/epoch - 10ms/step\n",
      "Epoch 181/200\n",
      "244/244 - 3s - loss: 0.2685 - accuracy: 0.9170 - 3s/epoch - 10ms/step\n",
      "Epoch 182/200\n",
      "244/244 - 3s - loss: 0.2683 - accuracy: 0.9164 - 3s/epoch - 10ms/step\n",
      "Epoch 183/200\n",
      "244/244 - 3s - loss: 0.2691 - accuracy: 0.9171 - 3s/epoch - 11ms/step\n",
      "Epoch 184/200\n",
      "244/244 - 3s - loss: 0.2692 - accuracy: 0.9158 - 3s/epoch - 10ms/step\n",
      "Epoch 185/200\n",
      "244/244 - 3s - loss: 0.2850 - accuracy: 0.9144 - 3s/epoch - 11ms/step\n",
      "Epoch 186/200\n",
      "244/244 - 3s - loss: 0.2792 - accuracy: 0.9153 - 3s/epoch - 10ms/step\n",
      "Epoch 187/200\n",
      "244/244 - 3s - loss: 0.2677 - accuracy: 0.9171 - 3s/epoch - 10ms/step\n",
      "Epoch 188/200\n",
      "244/244 - 3s - loss: 0.2662 - accuracy: 0.9162 - 3s/epoch - 11ms/step\n",
      "Epoch 189/200\n",
      "244/244 - 3s - loss: 0.2658 - accuracy: 0.9172 - 3s/epoch - 11ms/step\n",
      "Epoch 190/200\n",
      "244/244 - 3s - loss: 0.2652 - accuracy: 0.9157 - 3s/epoch - 10ms/step\n",
      "Epoch 191/200\n",
      "244/244 - 3s - loss: 0.2653 - accuracy: 0.9172 - 3s/epoch - 12ms/step\n",
      "Epoch 192/200\n",
      "244/244 - 3s - loss: 0.2656 - accuracy: 0.9164 - 3s/epoch - 12ms/step\n",
      "Epoch 193/200\n",
      "244/244 - 3s - loss: 0.2652 - accuracy: 0.9162 - 3s/epoch - 11ms/step\n",
      "Epoch 194/200\n",
      "244/244 - 3s - loss: 0.2648 - accuracy: 0.9168 - 3s/epoch - 11ms/step\n",
      "Epoch 195/200\n",
      "244/244 - 3s - loss: 0.2633 - accuracy: 0.9168 - 3s/epoch - 11ms/step\n",
      "Epoch 196/200\n",
      "244/244 - 3s - loss: 0.2640 - accuracy: 0.9158 - 3s/epoch - 11ms/step\n",
      "Epoch 197/200\n",
      "244/244 - 3s - loss: 0.2647 - accuracy: 0.9158 - 3s/epoch - 11ms/step\n"
     ]
    },
    {
     "name": "stdout",
     "output_type": "stream",
     "text": [
      "Epoch 198/200\n",
      "244/244 - 3s - loss: 0.2645 - accuracy: 0.9164 - 3s/epoch - 10ms/step\n",
      "Epoch 199/200\n",
      "244/244 - 3s - loss: 0.2708 - accuracy: 0.9149 - 3s/epoch - 10ms/step\n",
      "Epoch 200/200\n",
      "244/244 - 3s - loss: 0.2836 - accuracy: 0.9146 - 3s/epoch - 11ms/step\n"
     ]
    },
    {
     "data": {
      "text/plain": [
       "<keras.callbacks.History at 0x2133f475c40>"
      ]
     },
     "execution_count": 40,
     "metadata": {},
     "output_type": "execute_result"
    }
   ],
   "source": [
    "embedding_dim = 10\n",
    "hidden_units = 128\n",
    "\n",
    "model = Sequential()\n",
    "model.add(Embedding(vocab_size, embedding_dim))\n",
    "model.add(LSTM(hidden_units))\n",
    "model.add(Dense(vocab_size, activation='softmax'))\n",
    "model.compile(loss='categorical_crossentropy', optimizer='adam', metrics=['accuracy'])\n",
    "model.fit(X, y, epochs=200, verbose=2)"
   ]
  },
  {
   "cell_type": "code",
   "execution_count": 41,
   "id": "97fa675e",
   "metadata": {},
   "outputs": [],
   "source": [
    "def sentence_generation(model, tokenizer, current_word, n): # 모델, 토크나이저, 현재 단어, 반복할 횟수\n",
    "    init_word = current_word\n",
    "    sentence = ''\n",
    "\n",
    "    # n번 반복\n",
    "    for _ in range(n):\n",
    "        encoded = tokenizer.texts_to_sequences([current_word])[0]\n",
    "        encoded = pad_sequences([encoded], maxlen=max_len-1, padding='pre')\n",
    "\n",
    "        # 입력한 X(현재 단어)에 대해서 y를 예측하고 y(예측한 단어)를 result에 저장.\n",
    "        result = model.predict(encoded, verbose=0)\n",
    "        result = np.argmax(result, axis=1)\n",
    "\n",
    "        for word, index in tokenizer.word_index.items(): \n",
    "            # 만약 예측한 단어와 인덱스와 동일한 단어가 있다면\n",
    "            if index == result:\n",
    "                break\n",
    "\n",
    "        # 현재 단어 + ' ' + 예측 단어를 현재 단어로 변경\n",
    "        current_word = current_word + ' '  + word\n",
    "\n",
    "        # 예측 단어를 문장에 저장\n",
    "        sentence = sentence + ' ' + word\n",
    "\n",
    "    sentence = init_word + sentence\n",
    "    return sentence"
   ]
  },
  {
   "cell_type": "code",
   "execution_count": 42,
   "id": "f8efa98a",
   "metadata": {},
   "outputs": [
    {
     "name": "stdout",
     "output_type": "stream",
     "text": [
      "i cant jump ship from facebook yet house control in 92\n"
     ]
    }
   ],
   "source": [
    "print(sentence_generation(model, tokenizer, 'i', 10))"
   ]
  },
  {
   "cell_type": "code",
   "execution_count": 43,
   "id": "37b87509",
   "metadata": {},
   "outputs": [
    {
     "name": "stdout",
     "output_type": "stream",
     "text": [
      "how to make facebook more accountable is just gluten viral push\n"
     ]
    }
   ],
   "source": [
    "print(sentence_generation(model, tokenizer, 'how', 10))"
   ]
  }
 ],
 "metadata": {
  "kernelspec": {
   "display_name": "Python 3 (ipykernel)",
   "language": "python",
   "name": "python3"
  },
  "language_info": {
   "codemirror_mode": {
    "name": "ipython",
    "version": 3
   },
   "file_extension": ".py",
   "mimetype": "text/x-python",
   "name": "python",
   "nbconvert_exporter": "python",
   "pygments_lexer": "ipython3",
   "version": "3.9.12"
  }
 },
 "nbformat": 4,
 "nbformat_minor": 5
}
