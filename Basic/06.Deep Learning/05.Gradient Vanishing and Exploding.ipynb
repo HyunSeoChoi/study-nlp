{
 "cells": [
  {
   "cell_type": "markdown",
   "id": "ab71136e",
   "metadata": {},
   "source": [
    "기울기 소실(Gradient Vanishing)과 폭주(Exploding) [Reference](https://wikidocs.net/61375)"
   ]
  },
  {
   "cell_type": "markdown",
   "id": "6edca849",
   "metadata": {},
   "source": [
    "### 그래디언트 클리핑(Gradient Clipping)"
   ]
  },
  {
   "cell_type": "code",
   "execution_count": 1,
   "id": "3924549b",
   "metadata": {},
   "outputs": [
    {
     "name": "stderr",
     "output_type": "stream",
     "text": [
      "C:\\Users\\HyunSeo\\anaconda3\\lib\\site-packages\\keras\\optimizer_v2\\adam.py:105: UserWarning: The `lr` argument is deprecated, use `learning_rate` instead.\n",
      "  super(Adam, self).__init__(name, **kwargs)\n"
     ]
    }
   ],
   "source": [
    "from tensorflow.keras import optimizers\n",
    "\n",
    "Adam = optimizers.Adam(lr=0.0001, clipnorm=1.)"
   ]
  }
 ],
 "metadata": {
  "kernelspec": {
   "display_name": "Python 3 (ipykernel)",
   "language": "python",
   "name": "python3"
  },
  "language_info": {
   "codemirror_mode": {
    "name": "ipython",
    "version": 3
   },
   "file_extension": ".py",
   "mimetype": "text/x-python",
   "name": "python",
   "nbconvert_exporter": "python",
   "pygments_lexer": "ipython3",
   "version": "3.9.12"
  }
 },
 "nbformat": 4,
 "nbformat_minor": 5
}
