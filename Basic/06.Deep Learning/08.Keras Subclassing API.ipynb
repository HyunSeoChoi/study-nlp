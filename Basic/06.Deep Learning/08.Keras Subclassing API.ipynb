{
 "cells": [
  {
   "cell_type": "markdown",
   "id": "505da75e",
   "metadata": {},
   "source": [
    "케라스 서브클래싱 API(Keras Subclassing API) [Reference](https://wikidocs.net/106897)"
   ]
  },
  {
   "cell_type": "code",
   "execution_count": 1,
   "id": "fc0e150c",
   "metadata": {},
   "outputs": [
    {
     "data": {
      "text/plain": [
       "'2.7.2'"
      ]
     },
     "execution_count": 1,
     "metadata": {},
     "output_type": "execute_result"
    }
   ],
   "source": [
    "import tensorflow as tf\n",
    "tf.__version__"
   ]
  },
  {
   "cell_type": "code",
   "execution_count": 2,
   "id": "423eb365",
   "metadata": {},
   "outputs": [],
   "source": [
    "class LinearRegression(tf.keras.Model):\n",
    "  def __init__(self):\n",
    "    super(LinearRegression, self).__init__()\n",
    "    self.linear_layer = tf.keras.layers.Dense(1, input_dim=1, activation='linear')\n",
    "\n",
    "  def call(self, x):\n",
    "    y_pred = self.linear_layer(x)\n",
    "\n",
    "    return y_pred"
   ]
  },
  {
   "cell_type": "code",
   "execution_count": 3,
   "id": "e1d9c25e",
   "metadata": {},
   "outputs": [],
   "source": [
    "model = LinearRegression()"
   ]
  },
  {
   "cell_type": "code",
   "execution_count": 4,
   "id": "09adf97b",
   "metadata": {},
   "outputs": [],
   "source": [
    "X = [1, 2, 3, 4, 5, 6, 7, 8, 9] # 공부하는 시간\n",
    "y = [11, 22, 33, 44, 53, 66, 77, 87, 95] # 각 공부하는 시간에 맵핑되는 성적"
   ]
  },
  {
   "cell_type": "code",
   "execution_count": 5,
   "id": "2b77e2d5",
   "metadata": {},
   "outputs": [],
   "source": [
    "# Code Error\n",
    "\n",
    "# sgd = tf.keras.optimizers.SGD(lr=0.01)\n",
    "# model.compile(optimizer=sgd, loss='mse', metrics=['mse'])\n",
    "# model.fit(X, y, epochs=300)"
   ]
  }
 ],
 "metadata": {
  "kernelspec": {
   "display_name": "Python 3 (ipykernel)",
   "language": "python",
   "name": "python3"
  },
  "language_info": {
   "codemirror_mode": {
    "name": "ipython",
    "version": 3
   },
   "file_extension": ".py",
   "mimetype": "text/x-python",
   "name": "python",
   "nbconvert_exporter": "python",
   "pygments_lexer": "ipython3",
   "version": "3.9.12"
  }
 },
 "nbformat": 4,
 "nbformat_minor": 5
}
