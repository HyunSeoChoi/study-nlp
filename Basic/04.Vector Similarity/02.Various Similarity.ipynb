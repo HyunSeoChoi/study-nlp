{
 "cells": [
  {
   "cell_type": "markdown",
   "id": "a6c85ddd",
   "metadata": {},
   "source": [
    "여러가지 유사도 기법 [Reference](https://wikidocs.net/24654)"
   ]
  },
  {
   "cell_type": "markdown",
   "id": "40d4ea96",
   "metadata": {},
   "source": [
    "### 유클리드 거리(Euclidean distance)"
   ]
  },
  {
   "cell_type": "code",
   "execution_count": 2,
   "id": "04944a6e",
   "metadata": {},
   "outputs": [
    {
     "name": "stdout",
     "output_type": "stream",
     "text": [
      "문서1과 문서Q의 거리 : 2.23606797749979\n",
      "문서2과 문서Q의 거리 : 3.1622776601683795\n",
      "문서3과 문서Q의 거리 : 2.449489742783178\n"
     ]
    }
   ],
   "source": [
    "import numpy as np\n",
    "\n",
    "def dist(x,y):   \n",
    "    return np.sqrt(np.sum((x-y)**2))\n",
    "\n",
    "doc1 = np.array((2,3,0,1))\n",
    "doc2 = np.array((1,2,3,1))\n",
    "doc3 = np.array((2,1,2,2))\n",
    "docQ = np.array((1,1,0,1))\n",
    "\n",
    "print('문서1과 문서Q의 거리 :',dist(doc1,docQ))\n",
    "print('문서2과 문서Q의 거리 :',dist(doc2,docQ))\n",
    "print('문서3과 문서Q의 거리 :',dist(doc3,docQ))"
   ]
  },
  {
   "cell_type": "markdown",
   "id": "72746fd2",
   "metadata": {},
   "source": [
    "### 자카드 유사도(Jaccard similarity)"
   ]
  },
  {
   "cell_type": "code",
   "execution_count": 3,
   "id": "7a64c806",
   "metadata": {},
   "outputs": [
    {
     "name": "stdout",
     "output_type": "stream",
     "text": [
      "문서1 : ['apple', 'banana', 'everyone', 'like', 'likey', 'watch', 'card', 'holder']\n",
      "문서2 : ['apple', 'banana', 'coupon', 'passport', 'love', 'you']\n"
     ]
    }
   ],
   "source": [
    "doc1 = \"apple banana everyone like likey watch card holder\"\n",
    "doc2 = \"apple banana coupon passport love you\"\n",
    "\n",
    "# 토큰화\n",
    "tokenized_doc1 = doc1.split()\n",
    "tokenized_doc2 = doc2.split()\n",
    "\n",
    "print('문서1 :',tokenized_doc1)\n",
    "print('문서2 :',tokenized_doc2)"
   ]
  },
  {
   "cell_type": "code",
   "execution_count": null,
   "id": "c697eb1e",
   "metadata": {},
   "outputs": [],
   "source": []
  }
 ],
 "metadata": {
  "kernelspec": {
   "display_name": "Python 3 (ipykernel)",
   "language": "python",
   "name": "python3"
  },
  "language_info": {
   "codemirror_mode": {
    "name": "ipython",
    "version": 3
   },
   "file_extension": ".py",
   "mimetype": "text/x-python",
   "name": "python",
   "nbconvert_exporter": "python",
   "pygments_lexer": "ipython3",
   "version": "3.9.12"
  }
 },
 "nbformat": 4,
 "nbformat_minor": 5
}
